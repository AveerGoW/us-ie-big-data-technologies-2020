{
  "nbformat": 4,
  "nbformat_minor": 0,
  "metadata": {
    "colab": {
      "name": "pyspark-structured-api.ipynb",
      "provenance": [],
      "collapsed_sections": [],
      "toc_visible": true
    },
    "kernelspec": {
      "name": "python3",
      "display_name": "Python 3"
    }
  },
  "cells": [
    {
      "cell_type": "markdown",
      "metadata": {
        "id": "nRD4AWvXv3bd",
        "colab_type": "text"
      },
      "source": [
        "### Welcome to the Colab Spark Tutorial.\n",
        "\n",
        "We will be using Spark a few times in this course, and the _colab_ environment provides the compute (for 12 hours at a time) we need, along with this wonderful web-based notebook.\n",
        "\n",
        "Today we will be configuring PySpark and exploring the SparkSQL features in relation to the Spark API\n",
        "\n",
        "Source material includes [[1](https://opensource.com/article/19/3/apache-spark-and-dataframes-tutorial)]\n",
        "\n",
        "Sections:\n",
        "\n",
        " 1. Configuring your _colab_\n",
        " 2. Using PySpark\n"
      ]
    },
    {
      "cell_type": "markdown",
      "metadata": {
        "id": "dObl4yHR4aRm",
        "colab_type": "text"
      },
      "source": [
        "Firstly, we need to configure the _colab_ instance"
      ]
    },
    {
      "cell_type": "code",
      "metadata": {
        "id": "Oy0a51RqrDlC",
        "colab_type": "code",
        "colab": {
          "base_uri": "https://localhost:8080/",
          "height": 104
        },
        "outputId": "593eb358-177a-44e5-80bc-c6924c8befec"
      },
      "source": [
        "!lsb_release -a"
      ],
      "execution_count": null,
      "outputs": [
        {
          "output_type": "stream",
          "text": [
            "No LSB modules are available.\n",
            "Distributor ID:\tUbuntu\n",
            "Description:\tUbuntu 18.04.3 LTS\n",
            "Release:\t18.04\n",
            "Codename:\tbionic\n"
          ],
          "name": "stdout"
        }
      ]
    },
    {
      "cell_type": "code",
      "metadata": {
        "id": "OX6iQmbtrIvl",
        "colab_type": "code",
        "colab": {
          "base_uri": "https://localhost:8080/",
          "height": 449
        },
        "outputId": "0850ac16-f346-45e6-fe5c-01491a6f8ea0"
      },
      "source": [
        "!apt-get update"
      ],
      "execution_count": null,
      "outputs": [
        {
          "output_type": "stream",
          "text": [
            "Get:1 https://cloud.r-project.org/bin/linux/ubuntu bionic-cran35/ InRelease [3,626 B]\n",
            "Ign:2 https://developer.download.nvidia.com/compute/cuda/repos/ubuntu1804/x86_64  InRelease\n",
            "Get:3 https://cloud.r-project.org/bin/linux/ubuntu bionic-cran35/ Packages [95.7 kB]\n",
            "Ign:4 https://developer.download.nvidia.com/compute/machine-learning/repos/ubuntu1804/x86_64  InRelease\n",
            "Hit:5 https://developer.download.nvidia.com/compute/cuda/repos/ubuntu1804/x86_64  Release\n",
            "Get:6 https://developer.download.nvidia.com/compute/machine-learning/repos/ubuntu1804/x86_64  Release [564 B]\n",
            "Get:7 https://developer.download.nvidia.com/compute/machine-learning/repos/ubuntu1804/x86_64  Release.gpg [833 B]\n",
            "Hit:8 http://archive.ubuntu.com/ubuntu bionic InRelease\n",
            "Get:9 http://ppa.launchpad.net/graphics-drivers/ppa/ubuntu bionic InRelease [21.3 kB]\n",
            "Get:10 http://security.ubuntu.com/ubuntu bionic-security InRelease [88.7 kB]\n",
            "Get:12 http://archive.ubuntu.com/ubuntu bionic-updates InRelease [88.7 kB]\n",
            "Get:13 https://developer.download.nvidia.com/compute/machine-learning/repos/ubuntu1804/x86_64  Packages [47.5 kB]\n",
            "Get:14 http://ppa.launchpad.net/marutter/c2d4u3.5/ubuntu bionic InRelease [15.4 kB]\n",
            "Get:15 http://archive.ubuntu.com/ubuntu bionic-backports InRelease [74.6 kB]\n",
            "Get:16 http://security.ubuntu.com/ubuntu bionic-security/restricted amd64 Packages [102 kB]\n",
            "Get:17 http://ppa.launchpad.net/graphics-drivers/ppa/ubuntu bionic/main amd64 Packages [43.0 kB]\n",
            "Get:18 http://security.ubuntu.com/ubuntu bionic-security/universe amd64 Packages [891 kB]\n",
            "Get:19 http://archive.ubuntu.com/ubuntu bionic-updates/main amd64 Packages [1,359 kB]\n",
            "Get:20 http://security.ubuntu.com/ubuntu bionic-security/main amd64 Packages [1,050 kB]\n",
            "Get:21 http://ppa.launchpad.net/marutter/c2d4u3.5/ubuntu bionic/main Sources [1,864 kB]\n",
            "Get:22 http://archive.ubuntu.com/ubuntu bionic-updates/restricted amd64 Packages [123 kB]\n",
            "Get:23 http://archive.ubuntu.com/ubuntu bionic-updates/universe amd64 Packages [1,421 kB]\n",
            "Get:24 http://ppa.launchpad.net/marutter/c2d4u3.5/ubuntu bionic/main amd64 Packages [900 kB]\n",
            "Fetched 8,190 kB in 6s (1,321 kB/s)\n",
            "Reading package lists... Done\n"
          ],
          "name": "stdout"
        }
      ]
    },
    {
      "cell_type": "code",
      "metadata": {
        "id": "Mm6zycFEsLeI",
        "colab_type": "code",
        "colab": {}
      },
      "source": [
        "# Install java\n",
        "!apt-get install openjdk-8-jdk-headless -qq > /dev/null\n"
      ],
      "execution_count": null,
      "outputs": []
    },
    {
      "cell_type": "code",
      "metadata": {
        "id": "mAd3j6fJq1Ex",
        "colab_type": "code",
        "colab": {
          "base_uri": "https://localhost:8080/",
          "height": 207
        },
        "outputId": "3c5c2035-b858-4bfc-9146-b95700981437"
      },
      "source": [
        "# get spark \n",
        "!wget https://downloads.apache.org/spark/spark-3.0.0/spark-3.0.0-bin-hadoop2.7.tgz"
      ],
      "execution_count": null,
      "outputs": [
        {
          "output_type": "stream",
          "text": [
            "--2020-09-02 08:19:06--  https://downloads.apache.org/spark/spark-3.0.0/spark-3.0.0-bin-hadoop2.7.tgz\n",
            "Resolving downloads.apache.org (downloads.apache.org)... 88.99.95.219, 2a01:4f8:10a:201a::2\n",
            "Connecting to downloads.apache.org (downloads.apache.org)|88.99.95.219|:443... connected.\n",
            "HTTP request sent, awaiting response... 200 OK\n",
            "Length: 220272364 (210M) [application/x-gzip]\n",
            "Saving to: ‘spark-3.0.0-bin-hadoop2.7.tgz’\n",
            "\n",
            "spark-3.0.0-bin-had 100%[===================>] 210.07M  10.8MB/s    in 21s     \n",
            "\n",
            "2020-09-02 08:19:28 (9.84 MB/s) - ‘spark-3.0.0-bin-hadoop2.7.tgz’ saved [220272364/220272364]\n",
            "\n"
          ],
          "name": "stdout"
        }
      ]
    },
    {
      "cell_type": "code",
      "metadata": {
        "id": "9Wadv8_tsEQw",
        "colab_type": "code",
        "colab": {}
      },
      "source": [
        "# decompress spark\n",
        "!tar xf spark-3.0.0-bin-hadoop2.7.tgz\n",
        "\n",
        "# install python package to help with system paths\n",
        "!pip install -q findspark"
      ],
      "execution_count": null,
      "outputs": []
    },
    {
      "cell_type": "code",
      "metadata": {
        "id": "l60O1BJzuf_h",
        "colab_type": "code",
        "colab": {}
      },
      "source": [
        "# Let Colab know where the java and spark folders are\n",
        "\n",
        "import os\n",
        "os.environ[\"JAVA_HOME\"] = \"/usr/lib/jvm/java-8-openjdk-amd64\"\n",
        "os.environ[\"SPARK_HOME\"] = \"/content/spark-3.0.0-bin-hadoop2.7\""
      ],
      "execution_count": null,
      "outputs": []
    },
    {
      "cell_type": "code",
      "metadata": {
        "id": "lbpi4WDgu_VL",
        "colab_type": "code",
        "colab": {}
      },
      "source": [
        "# add pyspark to sys.path using findspark\n",
        "import findspark\n",
        "findspark.init()\n",
        "\n",
        "# get a spark session\n",
        "from pyspark.sql import SparkSession\n",
        "spark = SparkSession.builder.master(\"local[*]\").getOrCreate()"
      ],
      "execution_count": null,
      "outputs": []
    },
    {
      "cell_type": "code",
      "metadata": {
        "id": "o0gAVpEjvyI2",
        "colab_type": "code",
        "colab": {
          "base_uri": "https://localhost:8080/",
          "height": 218
        },
        "outputId": "f18193c3-a5dc-44b3-d5bc-fc6806c46b3c"
      },
      "source": [
        "spark"
      ],
      "execution_count": null,
      "outputs": [
        {
          "output_type": "execute_result",
          "data": {
            "text/html": [
              "\n",
              "            <div>\n",
              "                <p><b>SparkSession - in-memory</b></p>\n",
              "                \n",
              "        <div>\n",
              "            <p><b>SparkContext</b></p>\n",
              "\n",
              "            <p><a href=\"http://e312dd8f1442:4040\">Spark UI</a></p>\n",
              "\n",
              "            <dl>\n",
              "              <dt>Version</dt>\n",
              "                <dd><code>v3.0.0</code></dd>\n",
              "              <dt>Master</dt>\n",
              "                <dd><code>local[*]</code></dd>\n",
              "              <dt>AppName</dt>\n",
              "                <dd><code>pyspark-shell</code></dd>\n",
              "            </dl>\n",
              "        </div>\n",
              "        \n",
              "            </div>\n",
              "        "
            ],
            "text/plain": [
              "<pyspark.sql.session.SparkSession at 0x7f056cd571d0>"
            ]
          },
          "metadata": {
            "tags": []
          },
          "execution_count": 8
        }
      ]
    },
    {
      "cell_type": "markdown",
      "metadata": {
        "id": "87le9nge8TLK",
        "colab_type": "text"
      },
      "source": [
        "Let's download some url data (\"Anonymized 120-day subset of the ICML-09 URL data containing 2.4 million examples and 3.2 million features\" [UCI](https://archive.ics.uci.edu/ml/datasets/URL+Reputation)"
      ]
    },
    {
      "cell_type": "code",
      "metadata": {
        "id": "W6SHTRfC6pFS",
        "colab_type": "code",
        "colab": {
          "base_uri": "https://localhost:8080/",
          "height": 397
        },
        "outputId": "9ab9f02e-f72e-49ef-da74-9013efa04ccd"
      },
      "source": [
        "! wget http://kdd.ics.uci.edu/databases/kddcup99/kddcup.data_10_percent.gz\n",
        "! wget http://kdd.ics.uci.edu/databases/kddcup99/kddcup.names"
      ],
      "execution_count": null,
      "outputs": [
        {
          "output_type": "stream",
          "text": [
            "--2020-09-02 08:19:41--  http://kdd.ics.uci.edu/databases/kddcup99/kddcup.data_10_percent.gz\n",
            "Resolving kdd.ics.uci.edu (kdd.ics.uci.edu)... 128.195.1.86\n",
            "Connecting to kdd.ics.uci.edu (kdd.ics.uci.edu)|128.195.1.86|:80... connected.\n",
            "HTTP request sent, awaiting response... 200 OK\n",
            "Length: 2144903 (2.0M) [application/x-gzip]\n",
            "Saving to: ‘kddcup.data_10_percent.gz’\n",
            "\n",
            "kddcup.data_10_perc 100%[===================>]   2.04M  1.89MB/s    in 1.1s    \n",
            "\n",
            "2020-09-02 08:19:42 (1.89 MB/s) - ‘kddcup.data_10_percent.gz’ saved [2144903/2144903]\n",
            "\n",
            "--2020-09-02 08:19:42--  http://kdd.ics.uci.edu/databases/kddcup99/kddcup.names\n",
            "Resolving kdd.ics.uci.edu (kdd.ics.uci.edu)... 128.195.1.86\n",
            "Connecting to kdd.ics.uci.edu (kdd.ics.uci.edu)|128.195.1.86|:80... connected.\n",
            "HTTP request sent, awaiting response... 200 OK\n",
            "Length: 1307 (1.3K)\n",
            "Saving to: ‘kddcup.names’\n",
            "\n",
            "kddcup.names        100%[===================>]   1.28K  --.-KB/s    in 0s      \n",
            "\n",
            "2020-09-02 08:19:43 (206 MB/s) - ‘kddcup.names’ saved [1307/1307]\n",
            "\n"
          ],
          "name": "stdout"
        }
      ]
    },
    {
      "cell_type": "code",
      "metadata": {
        "id": "EbToU3UA6q_o",
        "colab_type": "code",
        "colab": {}
      },
      "source": [
        "!gunzip kddcup.data_10_percent.gz"
      ],
      "execution_count": null,
      "outputs": []
    },
    {
      "cell_type": "code",
      "metadata": {
        "id": "gAr0nnqG6u8v",
        "colab_type": "code",
        "colab": {}
      },
      "source": [
        "import pandas as pd\n",
        "df = pd.read_csv('kddcup.data_10_percent', header=None)"
      ],
      "execution_count": null,
      "outputs": []
    },
    {
      "cell_type": "code",
      "metadata": {
        "id": "dLdspkQ1844Q",
        "colab_type": "code",
        "colab": {
          "base_uri": "https://localhost:8080/",
          "height": 225
        },
        "outputId": "cd2e48d6-80e8-44d5-a78b-c77b6167914d"
      },
      "source": [
        "df[2].value_counts()"
      ],
      "execution_count": null,
      "outputs": [
        {
          "output_type": "execute_result",
          "data": {
            "text/plain": [
              "ecr_i      281400\n",
              "private    110893\n",
              "http        64293\n",
              "smtp         9723\n",
              "other        7237\n",
              "            ...  \n",
              "X11            11\n",
              "tim_i           7\n",
              "pm_dump         1\n",
              "red_i           1\n",
              "tftp_u          1\n",
              "Name: 2, Length: 66, dtype: int64"
            ]
          },
          "metadata": {
            "tags": []
          },
          "execution_count": 12
        }
      ]
    },
    {
      "cell_type": "code",
      "metadata": {
        "id": "xfoOnEBb7Ilj",
        "colab_type": "code",
        "colab": {
          "base_uri": "https://localhost:8080/",
          "height": 35
        },
        "outputId": "f51cd09a-3ad5-4ecf-f15f-f6b3e9f19e30"
      },
      "source": [
        "!kddcup.data_10_percent.gz"
      ],
      "execution_count": null,
      "outputs": [
        {
          "output_type": "stream",
          "text": [
            "/bin/bash: kddcup.data_10_percent.gz: command not found\n"
          ],
          "name": "stdout"
        }
      ]
    },
    {
      "cell_type": "code",
      "metadata": {
        "id": "BeHGThDKAZpc",
        "colab_type": "code",
        "colab": {
          "base_uri": "https://localhost:8080/",
          "height": 104
        },
        "outputId": "fbb04fda-8fb4-41c8-da60-109fc4b5c54f"
      },
      "source": [
        "raw_rdd = spark.sparkContext.textFile('kddcup.data_10_percent').cache()\n",
        "raw_rdd.take(5)"
      ],
      "execution_count": null,
      "outputs": [
        {
          "output_type": "execute_result",
          "data": {
            "text/plain": [
              "['0,tcp,http,SF,181,5450,0,0,0,0,0,1,0,0,0,0,0,0,0,0,0,0,8,8,0.00,0.00,0.00,0.00,1.00,0.00,0.00,9,9,1.00,0.00,0.11,0.00,0.00,0.00,0.00,0.00,normal.',\n",
              " '0,tcp,http,SF,239,486,0,0,0,0,0,1,0,0,0,0,0,0,0,0,0,0,8,8,0.00,0.00,0.00,0.00,1.00,0.00,0.00,19,19,1.00,0.00,0.05,0.00,0.00,0.00,0.00,0.00,normal.',\n",
              " '0,tcp,http,SF,235,1337,0,0,0,0,0,1,0,0,0,0,0,0,0,0,0,0,8,8,0.00,0.00,0.00,0.00,1.00,0.00,0.00,29,29,1.00,0.00,0.03,0.00,0.00,0.00,0.00,0.00,normal.',\n",
              " '0,tcp,http,SF,219,1337,0,0,0,0,0,1,0,0,0,0,0,0,0,0,0,0,6,6,0.00,0.00,0.00,0.00,1.00,0.00,0.00,39,39,1.00,0.00,0.03,0.00,0.00,0.00,0.00,0.00,normal.',\n",
              " '0,tcp,http,SF,217,2032,0,0,0,0,0,1,0,0,0,0,0,0,0,0,0,0,6,6,0.00,0.00,0.00,0.00,1.00,0.00,0.00,49,49,1.00,0.00,0.02,0.00,0.00,0.00,0.00,0.00,normal.']"
            ]
          },
          "metadata": {
            "tags": []
          },
          "execution_count": 14
        }
      ]
    },
    {
      "cell_type": "code",
      "metadata": {
        "id": "ZMHP2KnWA0W-",
        "colab_type": "code",
        "colab": {
          "base_uri": "https://localhost:8080/",
          "height": 72
        },
        "outputId": "a0cf3ec0-2eb7-427c-e6f8-6d4c27aadf38"
      },
      "source": [
        "csv_rdd = raw_rdd.map(lambda row: row.split(\",\"))\n",
        "print(csv_rdd.take(2))\n",
        "print(type(csv_rdd))"
      ],
      "execution_count": null,
      "outputs": [
        {
          "output_type": "stream",
          "text": [
            "[['0', 'tcp', 'http', 'SF', '181', '5450', '0', '0', '0', '0', '0', '1', '0', '0', '0', '0', '0', '0', '0', '0', '0', '0', '8', '8', '0.00', '0.00', '0.00', '0.00', '1.00', '0.00', '0.00', '9', '9', '1.00', '0.00', '0.11', '0.00', '0.00', '0.00', '0.00', '0.00', 'normal.'], ['0', 'tcp', 'http', 'SF', '239', '486', '0', '0', '0', '0', '0', '1', '0', '0', '0', '0', '0', '0', '0', '0', '0', '0', '8', '8', '0.00', '0.00', '0.00', '0.00', '1.00', '0.00', '0.00', '19', '19', '1.00', '0.00', '0.05', '0.00', '0.00', '0.00', '0.00', '0.00', 'normal.']]\n",
            "<class 'pyspark.rdd.PipelinedRDD'>\n"
          ],
          "name": "stdout"
        }
      ]
    },
    {
      "cell_type": "code",
      "metadata": {
        "id": "vhLhdHB2BP48",
        "colab_type": "code",
        "colab": {
          "base_uri": "https://localhost:8080/",
          "height": 124
        },
        "outputId": "75714012-fadb-444c-c31a-8c4e297ab982"
      },
      "source": [
        "from pyspark.sql import Row\n",
        "\n",
        "parsed_rdd = csv_rdd.map(lambda r: Row(\n",
        "    duration=int(r[0]),\n",
        "    protocol_type=r[1],\n",
        "    service=r[2],\n",
        "    flag=r[3],\n",
        "    src_bytes=int(r[4]),\n",
        "    dst_bytes=int(r[5]),\n",
        "    wrong_fragment=int(r[7]),\n",
        "    urgent=int(r[8]),\n",
        "    hot=int(r[9]),\n",
        "    num_failed_logins=int(r[10]),\n",
        "    num_compromised=int(r[12]),\n",
        "    su_attempted=r[14],\n",
        "    num_root=int(r[15]),\n",
        "    num_file_creations=int(r[16]),\n",
        "    label=r[-1]\n",
        "    )\n",
        ")\n",
        "parsed_rdd.take(5)"
      ],
      "execution_count": null,
      "outputs": [
        {
          "output_type": "execute_result",
          "data": {
            "text/plain": [
              "[Row(duration=0, protocol_type='tcp', service='http', flag='SF', src_bytes=181, dst_bytes=5450, wrong_fragment=0, urgent=0, hot=0, num_failed_logins=0, num_compromised=0, su_attempted='0', num_root=0, num_file_creations=0, label='normal.'),\n",
              " Row(duration=0, protocol_type='tcp', service='http', flag='SF', src_bytes=239, dst_bytes=486, wrong_fragment=0, urgent=0, hot=0, num_failed_logins=0, num_compromised=0, su_attempted='0', num_root=0, num_file_creations=0, label='normal.'),\n",
              " Row(duration=0, protocol_type='tcp', service='http', flag='SF', src_bytes=235, dst_bytes=1337, wrong_fragment=0, urgent=0, hot=0, num_failed_logins=0, num_compromised=0, su_attempted='0', num_root=0, num_file_creations=0, label='normal.'),\n",
              " Row(duration=0, protocol_type='tcp', service='http', flag='SF', src_bytes=219, dst_bytes=1337, wrong_fragment=0, urgent=0, hot=0, num_failed_logins=0, num_compromised=0, su_attempted='0', num_root=0, num_file_creations=0, label='normal.'),\n",
              " Row(duration=0, protocol_type='tcp', service='http', flag='SF', src_bytes=217, dst_bytes=2032, wrong_fragment=0, urgent=0, hot=0, num_failed_logins=0, num_compromised=0, su_attempted='0', num_root=0, num_file_creations=0, label='normal.')]"
            ]
          },
          "metadata": {
            "tags": []
          },
          "execution_count": 16
        }
      ]
    },
    {
      "cell_type": "code",
      "metadata": {
        "id": "vTZqz_CqBhRB",
        "colab_type": "code",
        "colab": {
          "base_uri": "https://localhost:8080/",
          "height": 466
        },
        "outputId": "0792175b-f316-4dcd-c529-96bbb875c40b"
      },
      "source": [
        "df = spark.createDataFrame(parsed_rdd)\n",
        "df.show()"
      ],
      "execution_count": null,
      "outputs": [
        {
          "output_type": "stream",
          "text": [
            "+--------+-------------+-------+----+---------+---------+--------------+------+---+-----------------+---------------+------------+--------+------------------+-------+\n",
            "|duration|protocol_type|service|flag|src_bytes|dst_bytes|wrong_fragment|urgent|hot|num_failed_logins|num_compromised|su_attempted|num_root|num_file_creations|  label|\n",
            "+--------+-------------+-------+----+---------+---------+--------------+------+---+-----------------+---------------+------------+--------+------------------+-------+\n",
            "|       0|          tcp|   http|  SF|      181|     5450|             0|     0|  0|                0|              0|           0|       0|                 0|normal.|\n",
            "|       0|          tcp|   http|  SF|      239|      486|             0|     0|  0|                0|              0|           0|       0|                 0|normal.|\n",
            "|       0|          tcp|   http|  SF|      235|     1337|             0|     0|  0|                0|              0|           0|       0|                 0|normal.|\n",
            "|       0|          tcp|   http|  SF|      219|     1337|             0|     0|  0|                0|              0|           0|       0|                 0|normal.|\n",
            "|       0|          tcp|   http|  SF|      217|     2032|             0|     0|  0|                0|              0|           0|       0|                 0|normal.|\n",
            "|       0|          tcp|   http|  SF|      217|     2032|             0|     0|  0|                0|              0|           0|       0|                 0|normal.|\n",
            "|       0|          tcp|   http|  SF|      212|     1940|             0|     0|  0|                0|              0|           0|       0|                 0|normal.|\n",
            "|       0|          tcp|   http|  SF|      159|     4087|             0|     0|  0|                0|              0|           0|       0|                 0|normal.|\n",
            "|       0|          tcp|   http|  SF|      210|      151|             0|     0|  0|                0|              0|           0|       0|                 0|normal.|\n",
            "|       0|          tcp|   http|  SF|      212|      786|             0|     0|  1|                0|              0|           0|       0|                 0|normal.|\n",
            "|       0|          tcp|   http|  SF|      210|      624|             0|     0|  0|                0|              0|           0|       0|                 0|normal.|\n",
            "|       0|          tcp|   http|  SF|      177|     1985|             0|     0|  0|                0|              0|           0|       0|                 0|normal.|\n",
            "|       0|          tcp|   http|  SF|      222|      773|             0|     0|  0|                0|              0|           0|       0|                 0|normal.|\n",
            "|       0|          tcp|   http|  SF|      256|     1169|             0|     0|  0|                0|              0|           0|       0|                 0|normal.|\n",
            "|       0|          tcp|   http|  SF|      241|      259|             0|     0|  0|                0|              0|           0|       0|                 0|normal.|\n",
            "|       0|          tcp|   http|  SF|      260|     1837|             0|     0|  0|                0|              0|           0|       0|                 0|normal.|\n",
            "|       0|          tcp|   http|  SF|      241|      261|             0|     0|  0|                0|              0|           0|       0|                 0|normal.|\n",
            "|       0|          tcp|   http|  SF|      257|      818|             0|     0|  0|                0|              0|           0|       0|                 0|normal.|\n",
            "|       0|          tcp|   http|  SF|      233|      255|             0|     0|  0|                0|              0|           0|       0|                 0|normal.|\n",
            "|       0|          tcp|   http|  SF|      233|      504|             0|     0|  0|                0|              0|           0|       0|                 0|normal.|\n",
            "+--------+-------------+-------+----+---------+---------+--------------+------+---+-----------------+---------------+------------+--------+------------------+-------+\n",
            "only showing top 20 rows\n",
            "\n"
          ],
          "name": "stdout"
        }
      ]
    },
    {
      "cell_type": "code",
      "metadata": {
        "id": "uQU24SGs6YZS",
        "colab_type": "code",
        "colab": {}
      },
      "source": [
        "from pyspark.sql import functions as f"
      ],
      "execution_count": null,
      "outputs": []
    },
    {
      "cell_type": "code",
      "metadata": {
        "id": "yNNA7WHlCD_u",
        "colab_type": "code",
        "colab": {}
      },
      "source": [
        "df.registerTempTable('data')"
      ],
      "execution_count": null,
      "outputs": []
    },
    {
      "cell_type": "markdown",
      "metadata": {
        "id": "AB3QG86AIc9Q",
        "colab_type": "text"
      },
      "source": [
        "---\n",
        "#0. Select columns"
      ]
    },
    {
      "cell_type": "code",
      "metadata": {
        "id": "QHM-LsliHwen",
        "colab_type": "code",
        "colab": {}
      },
      "source": [
        "select = spark.sql(\"\"\"SELECT protocol_type, service\n",
        "                      FROM data\"\"\")"
      ],
      "execution_count": null,
      "outputs": []
    },
    {
      "cell_type": "code",
      "metadata": {
        "id": "V_ZSeIJQHw8b",
        "colab_type": "code",
        "colab": {
          "base_uri": "https://localhost:8080/",
          "height": 294
        },
        "outputId": "485ef46c-8696-469b-e0a6-be0ea0c8ac51"
      },
      "source": [
        "select.show(10)"
      ],
      "execution_count": null,
      "outputs": [
        {
          "output_type": "stream",
          "text": [
            "+-------------+-------+\n",
            "|protocol_type|service|\n",
            "+-------------+-------+\n",
            "|          tcp|   http|\n",
            "|          tcp|   http|\n",
            "|          tcp|   http|\n",
            "|          tcp|   http|\n",
            "|          tcp|   http|\n",
            "|          tcp|   http|\n",
            "|          tcp|   http|\n",
            "|          tcp|   http|\n",
            "|          tcp|   http|\n",
            "|          tcp|   http|\n",
            "+-------------+-------+\n",
            "only showing top 10 rows\n",
            "\n"
          ],
          "name": "stdout"
        }
      ]
    },
    {
      "cell_type": "code",
      "metadata": {
        "id": "wqO6_d1MHwzH",
        "colab_type": "code",
        "colab": {}
      },
      "source": [
        "select_spark = df.select('protocol_type', 'service')"
      ],
      "execution_count": null,
      "outputs": []
    },
    {
      "cell_type": "code",
      "metadata": {
        "id": "DUftQKIHHwTl",
        "colab_type": "code",
        "colab": {
          "base_uri": "https://localhost:8080/",
          "height": 294
        },
        "outputId": "219cc6b8-8a1b-4332-e8f9-07a1aba2b4f0"
      },
      "source": [
        "select_spark.show(10)"
      ],
      "execution_count": null,
      "outputs": [
        {
          "output_type": "stream",
          "text": [
            "+-------------+-------+\n",
            "|protocol_type|service|\n",
            "+-------------+-------+\n",
            "|          tcp|   http|\n",
            "|          tcp|   http|\n",
            "|          tcp|   http|\n",
            "|          tcp|   http|\n",
            "|          tcp|   http|\n",
            "|          tcp|   http|\n",
            "|          tcp|   http|\n",
            "|          tcp|   http|\n",
            "|          tcp|   http|\n",
            "|          tcp|   http|\n",
            "+-------------+-------+\n",
            "only showing top 10 rows\n",
            "\n"
          ],
          "name": "stdout"
        }
      ]
    },
    {
      "cell_type": "markdown",
      "metadata": {
        "id": "wgFosi_oJFJb",
        "colab_type": "text"
      },
      "source": [
        "#### OR using a list also works"
      ]
    },
    {
      "cell_type": "code",
      "metadata": {
        "id": "QKNEqFSGJIkx",
        "colab_type": "code",
        "colab": {
          "base_uri": "https://localhost:8080/",
          "height": 294
        },
        "outputId": "500dfb4c-9be7-4d1c-def5-de008e800f79"
      },
      "source": [
        "select_spark = df.select(['protocol_type', 'service'])\n",
        "select_spark.show(10)"
      ],
      "execution_count": null,
      "outputs": [
        {
          "output_type": "stream",
          "text": [
            "+-------------+-------+\n",
            "|protocol_type|service|\n",
            "+-------------+-------+\n",
            "|          tcp|   http|\n",
            "|          tcp|   http|\n",
            "|          tcp|   http|\n",
            "|          tcp|   http|\n",
            "|          tcp|   http|\n",
            "|          tcp|   http|\n",
            "|          tcp|   http|\n",
            "|          tcp|   http|\n",
            "|          tcp|   http|\n",
            "|          tcp|   http|\n",
            "+-------------+-------+\n",
            "only showing top 10 rows\n",
            "\n"
          ],
          "name": "stdout"
        }
      ]
    },
    {
      "cell_type": "markdown",
      "metadata": {
        "id": "UexKUefVJSOQ",
        "colab_type": "text"
      },
      "source": [
        "---\n",
        "# 1. select as alias"
      ]
    },
    {
      "cell_type": "code",
      "metadata": {
        "id": "k7j_LBFWJchg",
        "colab_type": "code",
        "colab": {}
      },
      "source": [
        "alias = spark.sql(\"\"\"SELECT protocol_type,\n",
        "                            label as flag\n",
        "                     FROM data\n",
        "                  \"\"\")"
      ],
      "execution_count": null,
      "outputs": []
    },
    {
      "cell_type": "code",
      "metadata": {
        "id": "VA5FWkOyJczb",
        "colab_type": "code",
        "colab": {
          "base_uri": "https://localhost:8080/",
          "height": 466
        },
        "outputId": "179e8a66-fb82-4e00-da25-cdf931ad2bee"
      },
      "source": [
        "alias.show()"
      ],
      "execution_count": null,
      "outputs": [
        {
          "output_type": "stream",
          "text": [
            "+-------------+-------+\n",
            "|protocol_type|   flag|\n",
            "+-------------+-------+\n",
            "|          tcp|normal.|\n",
            "|          tcp|normal.|\n",
            "|          tcp|normal.|\n",
            "|          tcp|normal.|\n",
            "|          tcp|normal.|\n",
            "|          tcp|normal.|\n",
            "|          tcp|normal.|\n",
            "|          tcp|normal.|\n",
            "|          tcp|normal.|\n",
            "|          tcp|normal.|\n",
            "|          tcp|normal.|\n",
            "|          tcp|normal.|\n",
            "|          tcp|normal.|\n",
            "|          tcp|normal.|\n",
            "|          tcp|normal.|\n",
            "|          tcp|normal.|\n",
            "|          tcp|normal.|\n",
            "|          tcp|normal.|\n",
            "|          tcp|normal.|\n",
            "|          tcp|normal.|\n",
            "+-------------+-------+\n",
            "only showing top 20 rows\n",
            "\n"
          ],
          "name": "stdout"
        }
      ]
    },
    {
      "cell_type": "code",
      "metadata": {
        "id": "ibkdCi1xJcmV",
        "colab_type": "code",
        "colab": {}
      },
      "source": [
        "alias_spark = df.select('protocol_type', 'label').withColumnRenamed('label', 'flag')"
      ],
      "execution_count": null,
      "outputs": []
    },
    {
      "cell_type": "code",
      "metadata": {
        "id": "ysR___SFJceU",
        "colab_type": "code",
        "colab": {
          "base_uri": "https://localhost:8080/",
          "height": 466
        },
        "outputId": "8007365f-a097-4cc2-c4e7-a328f9cc3766"
      },
      "source": [
        "alias_spark.show()"
      ],
      "execution_count": null,
      "outputs": [
        {
          "output_type": "stream",
          "text": [
            "+-------------+-------+\n",
            "|protocol_type|   flag|\n",
            "+-------------+-------+\n",
            "|          tcp|normal.|\n",
            "|          tcp|normal.|\n",
            "|          tcp|normal.|\n",
            "|          tcp|normal.|\n",
            "|          tcp|normal.|\n",
            "|          tcp|normal.|\n",
            "|          tcp|normal.|\n",
            "|          tcp|normal.|\n",
            "|          tcp|normal.|\n",
            "|          tcp|normal.|\n",
            "|          tcp|normal.|\n",
            "|          tcp|normal.|\n",
            "|          tcp|normal.|\n",
            "|          tcp|normal.|\n",
            "|          tcp|normal.|\n",
            "|          tcp|normal.|\n",
            "|          tcp|normal.|\n",
            "|          tcp|normal.|\n",
            "|          tcp|normal.|\n",
            "|          tcp|normal.|\n",
            "+-------------+-------+\n",
            "only showing top 20 rows\n",
            "\n"
          ],
          "name": "stdout"
        }
      ]
    },
    {
      "cell_type": "markdown",
      "metadata": {
        "id": "_VkTVQ5VKZ5s",
        "colab_type": "text"
      },
      "source": [
        "#### OR using dataframe column-objects with .alias"
      ]
    },
    {
      "cell_type": "code",
      "metadata": {
        "id": "Rd7lAhSmKRAX",
        "colab_type": "code",
        "colab": {
          "base_uri": "https://localhost:8080/",
          "height": 294
        },
        "outputId": "d473d16a-2f3c-4fe4-9864-ef10ee12db39"
      },
      "source": [
        "alias_spark = df.select(df.protocol_type, df.label.alias('flag'))\n",
        "alias_spark.show(10)"
      ],
      "execution_count": null,
      "outputs": [
        {
          "output_type": "stream",
          "text": [
            "+-------------+-------+\n",
            "|protocol_type|   flag|\n",
            "+-------------+-------+\n",
            "|          tcp|normal.|\n",
            "|          tcp|normal.|\n",
            "|          tcp|normal.|\n",
            "|          tcp|normal.|\n",
            "|          tcp|normal.|\n",
            "|          tcp|normal.|\n",
            "|          tcp|normal.|\n",
            "|          tcp|normal.|\n",
            "|          tcp|normal.|\n",
            "|          tcp|normal.|\n",
            "+-------------+-------+\n",
            "only showing top 10 rows\n",
            "\n"
          ],
          "name": "stdout"
        }
      ]
    },
    {
      "cell_type": "markdown",
      "metadata": {
        "id": "d8TdxqQz_DXR",
        "colab_type": "text"
      },
      "source": [
        "# 2. group by, count, order by"
      ]
    },
    {
      "cell_type": "code",
      "metadata": {
        "id": "q4le_EnCCWY0",
        "colab_type": "code",
        "colab": {
          "base_uri": "https://localhost:8080/",
          "height": 155
        },
        "outputId": "4e1770ad-d812-48f6-b853-b986d10343b0"
      },
      "source": [
        "protocols = spark.sql(\"\"\"\n",
        "      SELECT protocol_type, count(*) as freq\n",
        "      FROM data\n",
        "      GROUP BY protocol_type\n",
        "      ORDER BY 2 DESC\n",
        "                           \"\"\")\n",
        "protocols.show()"
      ],
      "execution_count": null,
      "outputs": [
        {
          "output_type": "stream",
          "text": [
            "+-------------+------+\n",
            "|protocol_type|  freq|\n",
            "+-------------+------+\n",
            "|         icmp|283602|\n",
            "|          tcp|190065|\n",
            "|          udp| 20354|\n",
            "+-------------+------+\n",
            "\n"
          ],
          "name": "stdout"
        }
      ]
    },
    {
      "cell_type": "code",
      "metadata": {
        "id": "Bmp9bXaRCLjO",
        "colab_type": "code",
        "colab": {
          "base_uri": "https://localhost:8080/",
          "height": 155
        },
        "outputId": "09bd8d9e-40a7-4363-b405-739b802d953a"
      },
      "source": [
        "df.groupBy('protocol_type').count().orderBy('count', ascending=False).show()"
      ],
      "execution_count": null,
      "outputs": [
        {
          "output_type": "stream",
          "text": [
            "+-------------+------+\n",
            "|protocol_type| count|\n",
            "+-------------+------+\n",
            "|         icmp|283602|\n",
            "|          tcp|190065|\n",
            "|          udp| 20354|\n",
            "+-------------+------+\n",
            "\n"
          ],
          "name": "stdout"
        }
      ]
    },
    {
      "cell_type": "code",
      "metadata": {
        "id": "qgjkntrqHtun",
        "colab_type": "code",
        "colab": {}
      },
      "source": [
        ""
      ],
      "execution_count": null,
      "outputs": []
    },
    {
      "cell_type": "code",
      "metadata": {
        "id": "e8T7v7-hCueD",
        "colab_type": "code",
        "colab": {
          "base_uri": "https://localhost:8080/",
          "height": 35
        },
        "outputId": "3b444103-9a29-40d7-ebc3-c6e5586c38ef"
      },
      "source": [
        "df.count()"
      ],
      "execution_count": null,
      "outputs": [
        {
          "output_type": "execute_result",
          "data": {
            "text/plain": [
              "494021"
            ]
          },
          "metadata": {
            "tags": []
          },
          "execution_count": 21
        }
      ]
    },
    {
      "cell_type": "markdown",
      "metadata": {
        "id": "06jXlwmU_O0c",
        "colab_type": "text"
      },
      "source": [
        "---\n",
        "# 3. group by, count, order by (using agg)"
      ]
    },
    {
      "cell_type": "code",
      "metadata": {
        "id": "MYHRoj36EV6B",
        "colab_type": "code",
        "colab": {}
      },
      "source": [
        "labels = spark.sql(\"\"\"\n",
        "  SELECT label, count(*) as freq\n",
        "  FROM data\n",
        "  GROUP BY label\n",
        "  ORDER BY 2 DESC\n",
        "\"\"\")"
      ],
      "execution_count": null,
      "outputs": []
    },
    {
      "cell_type": "code",
      "metadata": {
        "id": "pmZtqo1V-Ccq",
        "colab_type": "code",
        "colab": {
          "base_uri": "https://localhost:8080/",
          "height": 466
        },
        "outputId": "d2f612c2-8d4e-4839-f236-e5ff91fb62b2"
      },
      "source": [
        "labels.show()"
      ],
      "execution_count": null,
      "outputs": [
        {
          "output_type": "stream",
          "text": [
            "+----------------+------+\n",
            "|           label|  freq|\n",
            "+----------------+------+\n",
            "|          smurf.|280790|\n",
            "|        neptune.|107201|\n",
            "|         normal.| 97278|\n",
            "|           back.|  2203|\n",
            "|          satan.|  1589|\n",
            "|        ipsweep.|  1247|\n",
            "|      portsweep.|  1040|\n",
            "|    warezclient.|  1020|\n",
            "|       teardrop.|   979|\n",
            "|            pod.|   264|\n",
            "|           nmap.|   231|\n",
            "|   guess_passwd.|    53|\n",
            "|buffer_overflow.|    30|\n",
            "|           land.|    21|\n",
            "|    warezmaster.|    20|\n",
            "|           imap.|    12|\n",
            "|        rootkit.|    10|\n",
            "|     loadmodule.|     9|\n",
            "|      ftp_write.|     8|\n",
            "|       multihop.|     7|\n",
            "+----------------+------+\n",
            "only showing top 20 rows\n",
            "\n"
          ],
          "name": "stdout"
        }
      ]
    },
    {
      "cell_type": "code",
      "metadata": {
        "id": "isahL3zB-F9p",
        "colab_type": "code",
        "colab": {}
      },
      "source": [
        "labels_spark = df.groupBy('label')\\\n",
        "                .agg(f.count(f.lit(1))\\\n",
        "                    .alias('freq'))\\\n",
        "                    .orderBy('freq', ascending=False)"
      ],
      "execution_count": null,
      "outputs": []
    },
    {
      "cell_type": "code",
      "metadata": {
        "id": "iWuxd0wu-Fz9",
        "colab_type": "code",
        "colab": {
          "base_uri": "https://localhost:8080/",
          "height": 466
        },
        "outputId": "0ec7e8c9-00d9-4e21-84bd-ff7a0b3900a4"
      },
      "source": [
        "labels_spark.show()"
      ],
      "execution_count": null,
      "outputs": [
        {
          "output_type": "stream",
          "text": [
            "+----------------+------+\n",
            "|           label|  freq|\n",
            "+----------------+------+\n",
            "|          smurf.|280790|\n",
            "|        neptune.|107201|\n",
            "|         normal.| 97278|\n",
            "|           back.|  2203|\n",
            "|          satan.|  1589|\n",
            "|        ipsweep.|  1247|\n",
            "|      portsweep.|  1040|\n",
            "|    warezclient.|  1020|\n",
            "|       teardrop.|   979|\n",
            "|            pod.|   264|\n",
            "|           nmap.|   231|\n",
            "|   guess_passwd.|    53|\n",
            "|buffer_overflow.|    30|\n",
            "|           land.|    21|\n",
            "|    warezmaster.|    20|\n",
            "|           imap.|    12|\n",
            "|        rootkit.|    10|\n",
            "|     loadmodule.|     9|\n",
            "|      ftp_write.|     8|\n",
            "|       multihop.|     7|\n",
            "+----------------+------+\n",
            "only showing top 20 rows\n",
            "\n"
          ],
          "name": "stdout"
        }
      ]
    },
    {
      "cell_type": "markdown",
      "metadata": {
        "id": "9gCGSzGr-Azf",
        "colab_type": "text"
      },
      "source": [
        "---\n",
        "#4. case, group by, count, order by"
      ]
    },
    {
      "cell_type": "code",
      "metadata": {
        "id": "Gyozq1CnEbBA",
        "colab_type": "code",
        "colab": {}
      },
      "source": [
        "attack_protocol = spark.sql(\"\"\"\n",
        "                           SELECT\n",
        "                             protocol_type,\n",
        "                             CASE label\n",
        "                               WHEN 'normal.' THEN 'no attack'\n",
        "                               ELSE 'attack'\n",
        "                             END AS state,\n",
        "                             COUNT(*) as freq\n",
        "                           FROM data\n",
        "                           GROUP BY protocol_type, state\n",
        "                           ORDER BY 3 DESC\n",
        "                           \"\"\")"
      ],
      "execution_count": null,
      "outputs": []
    },
    {
      "cell_type": "code",
      "metadata": {
        "id": "Tjg6bbh7EwrH",
        "colab_type": "code",
        "colab": {
          "base_uri": "https://localhost:8080/",
          "height": 207
        },
        "outputId": "194aa236-0038-493a-d87f-d76cbc0d8280"
      },
      "source": [
        "attack_protocol.show()"
      ],
      "execution_count": null,
      "outputs": [
        {
          "output_type": "stream",
          "text": [
            "+-------------+---------+------+\n",
            "|protocol_type|    state|  freq|\n",
            "+-------------+---------+------+\n",
            "|         icmp|   attack|282314|\n",
            "|          tcp|   attack|113252|\n",
            "|          tcp|no attack| 76813|\n",
            "|          udp|no attack| 19177|\n",
            "|         icmp|no attack|  1288|\n",
            "|          udp|   attack|  1177|\n",
            "+-------------+---------+------+\n",
            "\n"
          ],
          "name": "stdout"
        }
      ]
    },
    {
      "cell_type": "code",
      "metadata": {
        "id": "qTAEnJp-XDlw",
        "colab_type": "code",
        "colab": {}
      },
      "source": [
        "att_prot_spark = df.withColumn('state', f.when(df.label=='normal.', 'no attack').otherwise('attack'))\\\n",
        "                  .groupBy('protocol_type', 'state')\\\n",
        "                  .agg(f.count(f.lit(1)).alias('freq'))\\\n",
        "                  .orderBy('freq', ascending=False)\n"
      ],
      "execution_count": null,
      "outputs": []
    },
    {
      "cell_type": "code",
      "metadata": {
        "id": "AinIOikp6DB7",
        "colab_type": "code",
        "colab": {
          "base_uri": "https://localhost:8080/",
          "height": 207
        },
        "outputId": "c1b50729-8859-49b2-da43-4fed9c1e0fab"
      },
      "source": [
        "att_prot_spark.show()"
      ],
      "execution_count": null,
      "outputs": [
        {
          "output_type": "stream",
          "text": [
            "+-------------+---------+------+\n",
            "|protocol_type|    state|  freq|\n",
            "+-------------+---------+------+\n",
            "|         icmp|   attack|282314|\n",
            "|          tcp|   attack|113252|\n",
            "|          tcp|no attack| 76813|\n",
            "|          udp|no attack| 19177|\n",
            "|         icmp|no attack|  1288|\n",
            "|          udp|   attack|  1177|\n",
            "+-------------+---------+------+\n",
            "\n"
          ],
          "name": "stdout"
        }
      ]
    },
    {
      "cell_type": "markdown",
      "metadata": {
        "id": "QvLHycsW_u4J",
        "colab_type": "text"
      },
      "source": [
        "---\n",
        "#5. group by, aggregations"
      ]
    },
    {
      "cell_type": "code",
      "metadata": {
        "id": "O1GPRBt47ODq",
        "colab_type": "code",
        "colab": {}
      },
      "source": [
        "attack_stats = spark.sql(\"\"\"\n",
        "                          SELECT\n",
        "                            protocol_type,\n",
        "                            CASE label\n",
        "                              WHEN 'normal.' THEN 'no attack'\n",
        "                              ELSE 'attack'\n",
        "                            END AS state,\n",
        "                            COUNT(*) as total_freq,\n",
        "                            ROUND(AVG(src_bytes), 2) as mean_src_bytes,\n",
        "                            ROUND(AVG(dst_bytes), 2) as mean_dst_bytes,\n",
        "                            ROUND(AVG(duration), 2) as mean_duration,\n",
        "                            SUM(num_failed_logins) as total_failed_logins,\n",
        "                            SUM(num_compromised) as total_compromised,\n",
        "                            SUM(num_file_creations) as total_file_creations,\n",
        "                            SUM(su_attempted) as total_root_attempts,\n",
        "                            SUM(num_root) as total_root_acceses\n",
        "                          FROM data\n",
        "                          GROUP BY protocol_type, state\n",
        "                          ORDER BY 3 DESC\n",
        "                          \"\"\")"
      ],
      "execution_count": null,
      "outputs": []
    },
    {
      "cell_type": "code",
      "metadata": {
        "id": "KpzYvR-Y9vaw",
        "colab_type": "code",
        "colab": {
          "base_uri": "https://localhost:8080/",
          "height": 207
        },
        "outputId": "49338d87-c72f-444c-cd51-ad7d6eb48604"
      },
      "source": [
        "attack_stats.show()"
      ],
      "execution_count": null,
      "outputs": [
        {
          "output_type": "stream",
          "text": [
            "+-------------+---------+----------+--------------+--------------+-------------+-------------------+-----------------+--------------------+-------------------+------------------+\n",
            "|protocol_type|    state|total_freq|mean_src_bytes|mean_dst_bytes|mean_duration|total_failed_logins|total_compromised|total_file_creations|total_root_attempts|total_root_acceses|\n",
            "+-------------+---------+----------+--------------+--------------+-------------+-------------------+-----------------+--------------------+-------------------+------------------+\n",
            "|         icmp|   attack|    282314|        932.14|           0.0|          0.0|                  0|                0|                   0|                0.0|                 0|\n",
            "|          tcp|   attack|    113252|       9880.38|        881.41|        23.19|                 57|             2269|                  76|                1.0|               152|\n",
            "|          tcp|no attack|     76813|       1439.31|       4263.97|        11.08|                 18|             2776|                 459|               17.0|              5456|\n",
            "|          udp|no attack|     19177|         98.01|         89.89|      1054.63|                  0|                0|                   0|                0.0|                 0|\n",
            "|         icmp|no attack|      1288|         91.47|           0.0|          0.0|                  0|                0|                   0|                0.0|                 0|\n",
            "|          udp|   attack|      1177|          27.5|          0.23|          0.0|                  0|                0|                   0|                0.0|                 0|\n",
            "+-------------+---------+----------+--------------+--------------+-------------+-------------------+-----------------+--------------------+-------------------+------------------+\n",
            "\n"
          ],
          "name": "stdout"
        }
      ]
    },
    {
      "cell_type": "code",
      "metadata": {
        "id": "Ig3lTdSb90Ey",
        "colab_type": "code",
        "colab": {}
      },
      "source": [
        "attack_stats_spark = df.withColumn('state', f.when(df.label=='normal.', 'no attack').otherwise('attack'))\\\n",
        ".groupBy('protocol_type', 'state')\\\n",
        ".agg(f.count(f.lit(1)).alias('total_freq'),\n",
        "     f.avg('src_bytes').alias('mean_src_bytes'),\n",
        "     f.avg('dst_bytes').alias('mean_dst_bytes'),\n",
        "     f.avg('duration').alias('mean_duration'),\n",
        "     f.sum('num_failed_logins').alias('total_failed_logins'),\n",
        "     f.sum('num_compromised').alias('total_compromised'),\n",
        "     f.sum('num_file_creations').alias('total_file_creations'),\n",
        "     f.sum('su_attempted').alias('total_root_attempts'),\n",
        "     f.sum('num_root').alias('total_root_acceses'),\n",
        "     )\\\n",
        "     .orderBy('total_freq', ascending=False)"
      ],
      "execution_count": null,
      "outputs": []
    },
    {
      "cell_type": "code",
      "metadata": {
        "id": "cGJt0IrxAIXh",
        "colab_type": "code",
        "colab": {
          "base_uri": "https://localhost:8080/",
          "height": 207
        },
        "outputId": "c2643161-cc7a-4903-86c2-979695632bfb"
      },
      "source": [
        "attack_stats_spark.show()"
      ],
      "execution_count": null,
      "outputs": [
        {
          "output_type": "stream",
          "text": [
            "+-------------+---------+----------+------------------+-------------------+------------------+-------------------+-----------------+--------------------+-------------------+------------------+\n",
            "|protocol_type|    state|total_freq|    mean_src_bytes|     mean_dst_bytes|     mean_duration|total_failed_logins|total_compromised|total_file_creations|total_root_attempts|total_root_acceses|\n",
            "+-------------+---------+----------+------------------+-------------------+------------------+-------------------+-----------------+--------------------+-------------------+------------------+\n",
            "|         icmp|   attack|    282314| 932.1362985895138|                0.0|               0.0|                  0|                0|                   0|                0.0|                 0|\n",
            "|          tcp|   attack|    113252| 9880.375225161586|  881.4052467064599| 23.19422173559849|                 57|             2269|                  76|                1.0|               152|\n",
            "|          tcp|no attack|     76813|1439.3120305156679|   4263.96793511515|11.082980745446735|                 18|             2776|                 459|               17.0|              5456|\n",
            "|          udp|no attack|     19177| 98.01220211711947|  89.89471763049487|  1054.63179850863|                  0|                0|                   0|                0.0|                 0|\n",
            "|         icmp|no attack|      1288| 91.47049689440993|                0.0|               0.0|                  0|                0|                   0|                0.0|                 0|\n",
            "|          udp|   attack|      1177| 27.50467289719626|0.22939677145284623|               0.0|                  0|                0|                   0|                0.0|                 0|\n",
            "+-------------+---------+----------+------------------+-------------------+------------------+-------------------+-----------------+--------------------+-------------------+------------------+\n",
            "\n"
          ],
          "name": "stdout"
        }
      ]
    },
    {
      "cell_type": "markdown",
      "metadata": {
        "id": "baMxExBFEwNy",
        "colab_type": "text"
      },
      "source": [
        "---\n",
        "# 6. filter, group by "
      ]
    },
    {
      "cell_type": "code",
      "metadata": {
        "id": "EkagtnddEvgs",
        "colab_type": "code",
        "colab": {}
      },
      "source": [
        "tcp_attack_stats = spark.sql(\"\"\"\n",
        "                              SELECT\n",
        "                                service,\n",
        "                                label as attack_type,\n",
        "                                COUNT(*) as total_freq,\n",
        "                                ROUND(AVG(duration), 2) as mean_duration,\n",
        "                                SUM(num_failed_logins) as total_failed_logins,\n",
        "                                SUM(num_file_creations) as total_file_creations,\n",
        "                                SUM(su_attempted) as total_root_attempts,\n",
        "                                SUM(num_root) as total_root_acceses\n",
        "                              FROM data\n",
        "                              WHERE protocol_type = 'tcp'\n",
        "                              AND label != 'normal.'\n",
        "                              GROUP BY service, attack_type\n",
        "                              ORDER BY total_freq DESC\n",
        "                              \"\"\")"
      ],
      "execution_count": null,
      "outputs": []
    },
    {
      "cell_type": "code",
      "metadata": {
        "id": "8LPlGI18AlO2",
        "colab_type": "code",
        "colab": {
          "base_uri": "https://localhost:8080/",
          "height": 466
        },
        "outputId": "4aea362f-bcf4-4f51-b26d-666e140d45a6"
      },
      "source": [
        "tcp_attack_stats.show()"
      ],
      "execution_count": null,
      "outputs": [
        {
          "output_type": "stream",
          "text": [
            "+----------+------------+----------+-------------+-------------------+--------------------+-------------------+------------------+\n",
            "|   service| attack_type|total_freq|mean_duration|total_failed_logins|total_file_creations|total_root_attempts|total_root_acceses|\n",
            "+----------+------------+----------+-------------+-------------------+--------------------+-------------------+------------------+\n",
            "|   private|    neptune.|    101317|          0.0|                  0|                   0|                0.0|                 0|\n",
            "|      http|       back.|      2203|         0.13|                  0|                   0|                0.0|                 0|\n",
            "|     other|      satan.|      1221|          0.0|                  0|                   0|                0.0|                 0|\n",
            "|   private|  portsweep.|       725|      1915.81|                  0|                   0|                0.0|                 0|\n",
            "|  ftp_data|warezclient.|       708|       403.71|                  0|                   0|                0.0|                 0|\n",
            "|       ftp|warezclient.|       307|      1063.79|                  0|                   0|                0.0|                 0|\n",
            "|     other|  portsweep.|       260|      1058.22|                  0|                   0|                0.0|                 0|\n",
            "|    telnet|    neptune.|       197|          0.0|                  0|                   0|                0.0|                 0|\n",
            "|      http|    neptune.|       192|          0.0|                  0|                   0|                0.0|                 0|\n",
            "|    finger|    neptune.|       177|          0.0|                  0|                   0|                0.0|                 0|\n",
            "|   private|      satan.|       170|         0.05|                  0|                   0|                0.0|                 0|\n",
            "|  ftp_data|    neptune.|       170|          0.0|                  0|                   0|                0.0|                 0|\n",
            "|  csnet_ns|    neptune.|       123|          0.0|                  0|                   0|                0.0|                 0|\n",
            "|      smtp|    neptune.|       120|          0.0|                  0|                   0|                0.0|                 0|\n",
            "|remote_job|    neptune.|       118|          0.0|                  0|                   0|                0.0|                 0|\n",
            "|     pop_3|    neptune.|       118|          0.0|                  0|                   0|                0.0|                 0|\n",
            "|  iso_tsap|    neptune.|       115|          0.0|                  0|                   0|                0.0|                 0|\n",
            "|   discard|    neptune.|       115|          0.0|                  0|                   0|                0.0|                 0|\n",
            "|    systat|    neptune.|       113|          0.0|                  0|                   0|                0.0|                 0|\n",
            "|    gopher|    neptune.|       112|          0.0|                  0|                   0|                0.0|                 0|\n",
            "+----------+------------+----------+-------------+-------------------+--------------------+-------------------+------------------+\n",
            "only showing top 20 rows\n",
            "\n"
          ],
          "name": "stdout"
        }
      ]
    },
    {
      "cell_type": "code",
      "metadata": {
        "id": "gV9GkI6YE4Y9",
        "colab_type": "code",
        "colab": {}
      },
      "source": [
        "tcp_attack_stats_spark = df.filter((df.protocol_type  == \"tcp\") & (df.label  != \"normal.\")).groupBy('service', df.label.alias('attack_type'))\\\n",
        ".agg(f.count(f.lit(1)).alias('total_freq'),\n",
        "     f.avg('duration').alias('mean_duration'),\n",
        "     f.sum('num_failed_logins').alias('total_failed_logins'),\n",
        "     f.sum('num_file_creations').alias('total_file_creations'),\n",
        "     f.sum('su_attempted').alias('total_root_attempts'),\n",
        "     f.sum('num_root').alias('total_root_acceses'))\\\n",
        ".orderBy('total_freq', ascending=False)"
      ],
      "execution_count": null,
      "outputs": []
    },
    {
      "cell_type": "code",
      "metadata": {
        "id": "ksvTWt7FFspS",
        "colab_type": "code",
        "colab": {
          "base_uri": "https://localhost:8080/",
          "height": 466
        },
        "outputId": "ad79ca09-797e-4bb4-9b41-03561859f5e4"
      },
      "source": [
        "tcp_attack_stats_spark.show()"
      ],
      "execution_count": null,
      "outputs": [
        {
          "output_type": "stream",
          "text": [
            "+----------+------------+----------+--------------------+-------------------+--------------------+-------------------+------------------+\n",
            "|   service| attack_type|total_freq|       mean_duration|total_failed_logins|total_file_creations|total_root_attempts|total_root_acceses|\n",
            "+----------+------------+----------+--------------------+-------------------+--------------------+-------------------+------------------+\n",
            "|   private|    neptune.|    101317|                 0.0|                  0|                   0|                0.0|                 0|\n",
            "|      http|       back.|      2203|  0.1289151157512483|                  0|                   0|                0.0|                 0|\n",
            "|     other|      satan.|      1221|0.004914004914004914|                  0|                   0|                0.0|                 0|\n",
            "|   private|  portsweep.|       725|  1915.8110344827587|                  0|                   0|                0.0|                 0|\n",
            "|  ftp_data|warezclient.|       708|  403.70621468926555|                  0|                   0|                0.0|                 0|\n",
            "|       ftp|warezclient.|       307|  1063.7915309446255|                  0|                   0|                0.0|                 0|\n",
            "|     other|  portsweep.|       260|  1058.2153846153847|                  0|                   0|                0.0|                 0|\n",
            "|    telnet|    neptune.|       197|                 0.0|                  0|                   0|                0.0|                 0|\n",
            "|      http|    neptune.|       192|                 0.0|                  0|                   0|                0.0|                 0|\n",
            "|    finger|    neptune.|       177|                 0.0|                  0|                   0|                0.0|                 0|\n",
            "|  ftp_data|    neptune.|       170|                 0.0|                  0|                   0|                0.0|                 0|\n",
            "|   private|      satan.|       170|0.052941176470588235|                  0|                   0|                0.0|                 0|\n",
            "|  csnet_ns|    neptune.|       123|                 0.0|                  0|                   0|                0.0|                 0|\n",
            "|      smtp|    neptune.|       120|                 0.0|                  0|                   0|                0.0|                 0|\n",
            "|remote_job|    neptune.|       118|                 0.0|                  0|                   0|                0.0|                 0|\n",
            "|     pop_3|    neptune.|       118|                 0.0|                  0|                   0|                0.0|                 0|\n",
            "|  iso_tsap|    neptune.|       115|                 0.0|                  0|                   0|                0.0|                 0|\n",
            "|   discard|    neptune.|       115|                 0.0|                  0|                   0|                0.0|                 0|\n",
            "|    systat|    neptune.|       113|                 0.0|                  0|                   0|                0.0|                 0|\n",
            "|    gopher|    neptune.|       112|                 0.0|                  0|                   0|                0.0|                 0|\n",
            "+----------+------------+----------+--------------------+-------------------+--------------------+-------------------+------------------+\n",
            "only showing top 20 rows\n",
            "\n"
          ],
          "name": "stdout"
        }
      ]
    },
    {
      "cell_type": "markdown",
      "metadata": {
        "id": "iTCIdHu5NGK2",
        "colab_type": "text"
      },
      "source": [
        "---\n",
        "#7. sub-queries"
      ]
    },
    {
      "cell_type": "code",
      "metadata": {
        "id": "7lvC5LyrLOyK",
        "colab_type": "code",
        "colab": {}
      },
      "source": [
        "tcp_attack_stats = spark.sql(\"\"\"\n",
        "                              SELECT\n",
        "                                t.service,\n",
        "                                t.attack_type,\n",
        "                                t.total_freq\n",
        "                              FROM\n",
        "                              (SELECT\n",
        "                                service,\n",
        "                                label as attack_type,\n",
        "                                COUNT(*) as total_freq,\n",
        "                                ROUND(AVG(duration), 2) as mean_duration,\n",
        "                                SUM(num_failed_logins) as total_failed_logins,\n",
        "                                SUM(num_file_creations) as total_file_creations,\n",
        "                                SUM(su_attempted) as total_root_attempts,\n",
        "                                SUM(num_root) as total_root_acceses\n",
        "                              FROM data\n",
        "                              WHERE protocol_type = 'tcp'\n",
        "                              AND label != 'normal.'\n",
        "                              GROUP BY service, attack_type\n",
        "                              ORDER BY total_freq DESC) as t\n",
        "                                WHERE t.mean_duration > 0\n",
        "                              \"\"\")"
      ],
      "execution_count": null,
      "outputs": []
    },
    {
      "cell_type": "code",
      "metadata": {
        "id": "Df0x3JcVNqHY",
        "colab_type": "code",
        "colab": {
          "base_uri": "https://localhost:8080/",
          "height": 466
        },
        "outputId": "c2a04f82-ea9e-443e-b644-8aa00169ae91"
      },
      "source": [
        "tcp_attack_stats.show()"
      ],
      "execution_count": null,
      "outputs": [
        {
          "output_type": "stream",
          "text": [
            "+--------+----------------+----------+\n",
            "| service|     attack_type|total_freq|\n",
            "+--------+----------------+----------+\n",
            "|    http|           back.|      2203|\n",
            "| private|      portsweep.|       725|\n",
            "|ftp_data|    warezclient.|       708|\n",
            "|     ftp|    warezclient.|       307|\n",
            "|   other|      portsweep.|       260|\n",
            "| private|          satan.|       170|\n",
            "|  telnet|   guess_passwd.|        53|\n",
            "|  telnet|buffer_overflow.|        21|\n",
            "|ftp_data|    warezmaster.|        18|\n",
            "|   imap4|           imap.|        12|\n",
            "|  telnet|        rootkit.|         5|\n",
            "|  telnet|     loadmodule.|         5|\n",
            "|   other|    warezclient.|         5|\n",
            "|    http|            phf.|         4|\n",
            "|  supdup|      portsweep.|         4|\n",
            "|  telnet|           perl.|         3|\n",
            "|   pop_3|      portsweep.|         3|\n",
            "|    http|        ipsweep.|         3|\n",
            "|csnet_ns|      portsweep.|         3|\n",
            "|  finger|          satan.|         3|\n",
            "+--------+----------------+----------+\n",
            "only showing top 20 rows\n",
            "\n"
          ],
          "name": "stdout"
        }
      ]
    },
    {
      "cell_type": "code",
      "metadata": {
        "id": "3MBu9zi4NuRH",
        "colab_type": "code",
        "colab": {}
      },
      "source": [
        "tcp_attack_stats_spark = df.filter((df.protocol_type  == \"tcp\") & (df.label  != \"normal.\"))\\\n",
        ".groupBy('service', df.label.alias('attack_type'))\\\n",
        ".agg(f.count(f.lit(1)).alias('total_freq'),\n",
        "     f.avg('duration').alias('mean_duration'),\n",
        "     f.sum('num_failed_logins').alias('total_failed_logins'),\n",
        "     f.sum('num_file_creations').alias('total_file_creations'),\n",
        "     f.sum('su_attempted').alias('total_root_attempts'),\n",
        "     f.sum('num_root').alias('total_root_acceses'))\\\n",
        ".orderBy('total_freq', ascending=False)\\\n",
        ".filter(f.col('mean_duration') > 0)\\\n",
        ".select('service', 'attack_type', 'total_freq')"
      ],
      "execution_count": null,
      "outputs": []
    },
    {
      "cell_type": "code",
      "metadata": {
        "id": "5q-gcTdgOWJX",
        "colab_type": "code",
        "colab": {
          "base_uri": "https://localhost:8080/",
          "height": 466
        },
        "outputId": "01042285-193c-4642-85ec-75e39be9354e"
      },
      "source": [
        "tcp_attack_stats_spark.show()"
      ],
      "execution_count": null,
      "outputs": [
        {
          "output_type": "stream",
          "text": [
            "+--------+----------------+----------+\n",
            "| service|     attack_type|total_freq|\n",
            "+--------+----------------+----------+\n",
            "|    http|           back.|      2203|\n",
            "|   other|          satan.|      1221|\n",
            "| private|      portsweep.|       725|\n",
            "|ftp_data|    warezclient.|       708|\n",
            "|     ftp|    warezclient.|       307|\n",
            "|   other|      portsweep.|       260|\n",
            "| private|          satan.|       170|\n",
            "|  telnet|   guess_passwd.|        53|\n",
            "|  telnet|buffer_overflow.|        21|\n",
            "|ftp_data|    warezmaster.|        18|\n",
            "|   imap4|           imap.|        12|\n",
            "|  telnet|        rootkit.|         5|\n",
            "|  telnet|     loadmodule.|         5|\n",
            "|   other|    warezclient.|         5|\n",
            "|    http|            phf.|         4|\n",
            "|  supdup|      portsweep.|         4|\n",
            "|  telnet|           perl.|         3|\n",
            "|   pop_3|      portsweep.|         3|\n",
            "|  finger|          satan.|         3|\n",
            "|  gopher|        ipsweep.|         3|\n",
            "+--------+----------------+----------+\n",
            "only showing top 20 rows\n",
            "\n"
          ],
          "name": "stdout"
        }
      ]
    },
    {
      "cell_type": "markdown",
      "metadata": {
        "id": "uHeuumw1PeC1",
        "colab_type": "text"
      },
      "source": [
        "---\n",
        "#8. WIP"
      ]
    },
    {
      "cell_type": "code",
      "metadata": {
        "id": "OkX4rZOKOs9i",
        "colab_type": "code",
        "colab": {}
      },
      "source": [
        "tcp_attack_stats = spark.sql(\"\"\"\n",
        "                              SELECT\n",
        "                                service,\n",
        "                                label as attack_type,\n",
        "                                COUNT(*) as total_freq,\n",
        "                                ROUND(AVG(duration), 2) as mean_duration,\n",
        "                                SUM(num_failed_logins) as total_failed_logins,\n",
        "                                SUM(num_file_creations) as total_file_creations,\n",
        "                                SUM(su_attempted) as total_root_attempts,\n",
        "                                SUM(num_root) as total_root_acceses\n",
        "                              FROM data\n",
        "                              WHERE (protocol_type = 'tcp'\n",
        "                                    AND label != 'normal.')\n",
        "                              GROUP BY service, attack_type\n",
        "                              HAVING (mean_duration >= 50\n",
        "                                      AND total_file_creations >= 5\n",
        "                                      AND total_root_acceses >= 1)\n",
        "                              ORDER BY total_freq DESC\n",
        "                              \"\"\")"
      ],
      "execution_count": null,
      "outputs": []
    },
    {
      "cell_type": "code",
      "metadata": {
        "id": "Fvtz05SnPmNm",
        "colab_type": "code",
        "colab": {
          "base_uri": "https://localhost:8080/",
          "height": 155
        },
        "outputId": "48c61666-caaf-41d8-ead2-4ffe9b1b7a7f"
      },
      "source": [
        "tcp_attack_stats.show()"
      ],
      "execution_count": null,
      "outputs": [
        {
          "output_type": "stream",
          "text": [
            "+-------+----------------+----------+-------------+-------------------+--------------------+-------------------+------------------+\n",
            "|service|     attack_type|total_freq|mean_duration|total_failed_logins|total_file_creations|total_root_attempts|total_root_acceses|\n",
            "+-------+----------------+----------+-------------+-------------------+--------------------+-------------------+------------------+\n",
            "| telnet|buffer_overflow.|        21|       130.67|                  0|                  15|                0.0|                 5|\n",
            "| telnet|     loadmodule.|         5|         63.8|                  0|                   9|                0.0|                 3|\n",
            "| telnet|       multihop.|         2|        458.0|                  0|                   8|                0.0|                93|\n",
            "+-------+----------------+----------+-------------+-------------------+--------------------+-------------------+------------------+\n",
            "\n"
          ],
          "name": "stdout"
        }
      ]
    },
    {
      "cell_type": "code",
      "metadata": {
        "id": "H4UjfkAvPnfO",
        "colab_type": "code",
        "colab": {
          "base_uri": "https://localhost:8080/",
          "height": 569
        },
        "outputId": "08fd4bad-9b54-4096-ac70-91ba830e74be"
      },
      "source": [
        "tcp_attack_stats_spark = df.filter((df.protocol_type  == \"tcp\") & (df.label  != \"normal.\"))\\\n",
        ".groupBy('service', df.label.alias('attack_type'))\\\n",
        ".agg(f.count(f.lit(1)).alias('total_freq'),\n",
        "     f.avg('duration').alias('mean_duration'),\n",
        "     f.sum('num_failed_logins').alias('total_failed_logins'),\n",
        "     f.sum('num_file_creations').alias('total_file_creations'),\n",
        "     f.sum('su_attempted').alias('total_root_attempts'),\n",
        "     f.sum('num_root').alias('total_root_acceses'))\\\n",
        ".orderBy('total_freq', ascending=False)\\\n",
        ".filter(f.col('mean_duration') > 50 & f.col('total_file_creations') >= 5 & f.col('total_root_acceses') >= 1)\\"
      ],
      "execution_count": null,
      "outputs": [
        {
          "output_type": "stream",
          "text": [
            "ERROR:root:An unexpected error occurred while tokenizing input\n",
            "The following traceback may be corrupted or invalid\n",
            "The error message is: ('EOF in multi-line statement', (2, 0))\n",
            "\n"
          ],
          "name": "stderr"
        },
        {
          "output_type": "error",
          "ename": "Py4JError",
          "evalue": "ignored",
          "traceback": [
            "\u001b[0;31m---------------------------------------------------------------------------\u001b[0m",
            "\u001b[0;31mPy4JError\u001b[0m                                 Traceback (most recent call last)",
            "\u001b[0;32m<ipython-input-148-1803de33bcf4>\u001b[0m in \u001b[0;36m<module>\u001b[0;34m()\u001b[0m\n\u001b[1;32m      6\u001b[0m      f.sum('num_root').alias('total_root_acceses'))\\\n\u001b[1;32m      7\u001b[0m \u001b[0;34m.\u001b[0m\u001b[0morderBy\u001b[0m\u001b[0;34m(\u001b[0m\u001b[0;34m'total_freq'\u001b[0m\u001b[0;34m,\u001b[0m \u001b[0mascending\u001b[0m\u001b[0;34m=\u001b[0m\u001b[0;32mFalse\u001b[0m\u001b[0;34m)\u001b[0m\u001b[0;31m\\\u001b[0m\u001b[0;34m\u001b[0m\u001b[0;34m\u001b[0m\u001b[0m\n\u001b[0;32m----> 8\u001b[0;31m \u001b[0;34m.\u001b[0m\u001b[0mfilter\u001b[0m\u001b[0;34m(\u001b[0m\u001b[0mf\u001b[0m\u001b[0;34m.\u001b[0m\u001b[0mcol\u001b[0m\u001b[0;34m(\u001b[0m\u001b[0;34m'mean_duration'\u001b[0m\u001b[0;34m)\u001b[0m \u001b[0;34m>\u001b[0m \u001b[0;36m50\u001b[0m \u001b[0;34m&\u001b[0m \u001b[0mf\u001b[0m\u001b[0;34m.\u001b[0m\u001b[0mcol\u001b[0m\u001b[0;34m(\u001b[0m\u001b[0;34m'total_file_creations'\u001b[0m\u001b[0;34m)\u001b[0m \u001b[0;34m>=\u001b[0m \u001b[0;36m5\u001b[0m \u001b[0;34m&\u001b[0m \u001b[0mf\u001b[0m\u001b[0;34m.\u001b[0m\u001b[0mcol\u001b[0m\u001b[0;34m(\u001b[0m\u001b[0;34m'total_root_acceses'\u001b[0m\u001b[0;34m)\u001b[0m \u001b[0;34m>=\u001b[0m \u001b[0;36m1\u001b[0m\u001b[0;34m)\u001b[0m\u001b[0;31m\\\u001b[0m\u001b[0;34m\u001b[0m\u001b[0;34m\u001b[0m\u001b[0m\n\u001b[0m",
            "\u001b[0;32m/content/spark-3.0.0-bin-hadoop2.7/python/pyspark/sql/column.py\u001b[0m in \u001b[0;36m_\u001b[0;34m(self, other)\u001b[0m\n\u001b[1;32m    116\u001b[0m     \u001b[0;32mdef\u001b[0m \u001b[0m_\u001b[0m\u001b[0;34m(\u001b[0m\u001b[0mself\u001b[0m\u001b[0;34m,\u001b[0m \u001b[0mother\u001b[0m\u001b[0;34m)\u001b[0m\u001b[0;34m:\u001b[0m\u001b[0;34m\u001b[0m\u001b[0;34m\u001b[0m\u001b[0m\n\u001b[1;32m    117\u001b[0m         \u001b[0mjc\u001b[0m \u001b[0;34m=\u001b[0m \u001b[0mother\u001b[0m\u001b[0;34m.\u001b[0m\u001b[0m_jc\u001b[0m \u001b[0;32mif\u001b[0m \u001b[0misinstance\u001b[0m\u001b[0;34m(\u001b[0m\u001b[0mother\u001b[0m\u001b[0;34m,\u001b[0m \u001b[0mColumn\u001b[0m\u001b[0;34m)\u001b[0m \u001b[0;32melse\u001b[0m \u001b[0mother\u001b[0m\u001b[0;34m\u001b[0m\u001b[0;34m\u001b[0m\u001b[0m\n\u001b[0;32m--> 118\u001b[0;31m         \u001b[0mnjc\u001b[0m \u001b[0;34m=\u001b[0m \u001b[0mgetattr\u001b[0m\u001b[0;34m(\u001b[0m\u001b[0mself\u001b[0m\u001b[0;34m.\u001b[0m\u001b[0m_jc\u001b[0m\u001b[0;34m,\u001b[0m \u001b[0mname\u001b[0m\u001b[0;34m)\u001b[0m\u001b[0;34m(\u001b[0m\u001b[0mjc\u001b[0m\u001b[0;34m)\u001b[0m\u001b[0;34m\u001b[0m\u001b[0;34m\u001b[0m\u001b[0m\n\u001b[0m\u001b[1;32m    119\u001b[0m         \u001b[0;32mreturn\u001b[0m \u001b[0mColumn\u001b[0m\u001b[0;34m(\u001b[0m\u001b[0mnjc\u001b[0m\u001b[0;34m)\u001b[0m\u001b[0;34m\u001b[0m\u001b[0;34m\u001b[0m\u001b[0m\n\u001b[1;32m    120\u001b[0m     \u001b[0m_\u001b[0m\u001b[0;34m.\u001b[0m\u001b[0m__doc__\u001b[0m \u001b[0;34m=\u001b[0m \u001b[0mdoc\u001b[0m\u001b[0;34m\u001b[0m\u001b[0;34m\u001b[0m\u001b[0m\n",
            "\u001b[0;32m/content/spark-3.0.0-bin-hadoop2.7/python/lib/py4j-0.10.9-src.zip/py4j/java_gateway.py\u001b[0m in \u001b[0;36m__call__\u001b[0;34m(self, *args)\u001b[0m\n\u001b[1;32m   1303\u001b[0m         \u001b[0manswer\u001b[0m \u001b[0;34m=\u001b[0m \u001b[0mself\u001b[0m\u001b[0;34m.\u001b[0m\u001b[0mgateway_client\u001b[0m\u001b[0;34m.\u001b[0m\u001b[0msend_command\u001b[0m\u001b[0;34m(\u001b[0m\u001b[0mcommand\u001b[0m\u001b[0;34m)\u001b[0m\u001b[0;34m\u001b[0m\u001b[0;34m\u001b[0m\u001b[0m\n\u001b[1;32m   1304\u001b[0m         return_value = get_return_value(\n\u001b[0;32m-> 1305\u001b[0;31m             answer, self.gateway_client, self.target_id, self.name)\n\u001b[0m\u001b[1;32m   1306\u001b[0m \u001b[0;34m\u001b[0m\u001b[0m\n\u001b[1;32m   1307\u001b[0m         \u001b[0;32mfor\u001b[0m \u001b[0mtemp_arg\u001b[0m \u001b[0;32min\u001b[0m \u001b[0mtemp_args\u001b[0m\u001b[0;34m:\u001b[0m\u001b[0;34m\u001b[0m\u001b[0;34m\u001b[0m\u001b[0m\n",
            "\u001b[0;32m/content/spark-3.0.0-bin-hadoop2.7/python/pyspark/sql/utils.py\u001b[0m in \u001b[0;36mdeco\u001b[0;34m(*a, **kw)\u001b[0m\n\u001b[1;32m    129\u001b[0m     \u001b[0;32mdef\u001b[0m \u001b[0mdeco\u001b[0m\u001b[0;34m(\u001b[0m\u001b[0;34m*\u001b[0m\u001b[0ma\u001b[0m\u001b[0;34m,\u001b[0m \u001b[0;34m**\u001b[0m\u001b[0mkw\u001b[0m\u001b[0;34m)\u001b[0m\u001b[0;34m:\u001b[0m\u001b[0;34m\u001b[0m\u001b[0;34m\u001b[0m\u001b[0m\n\u001b[1;32m    130\u001b[0m         \u001b[0;32mtry\u001b[0m\u001b[0;34m:\u001b[0m\u001b[0;34m\u001b[0m\u001b[0;34m\u001b[0m\u001b[0m\n\u001b[0;32m--> 131\u001b[0;31m             \u001b[0;32mreturn\u001b[0m \u001b[0mf\u001b[0m\u001b[0;34m(\u001b[0m\u001b[0;34m*\u001b[0m\u001b[0ma\u001b[0m\u001b[0;34m,\u001b[0m \u001b[0;34m**\u001b[0m\u001b[0mkw\u001b[0m\u001b[0;34m)\u001b[0m\u001b[0;34m\u001b[0m\u001b[0;34m\u001b[0m\u001b[0m\n\u001b[0m\u001b[1;32m    132\u001b[0m         \u001b[0;32mexcept\u001b[0m \u001b[0mpy4j\u001b[0m\u001b[0;34m.\u001b[0m\u001b[0mprotocol\u001b[0m\u001b[0;34m.\u001b[0m\u001b[0mPy4JJavaError\u001b[0m \u001b[0;32mas\u001b[0m \u001b[0me\u001b[0m\u001b[0;34m:\u001b[0m\u001b[0;34m\u001b[0m\u001b[0;34m\u001b[0m\u001b[0m\n\u001b[1;32m    133\u001b[0m             \u001b[0mconverted\u001b[0m \u001b[0;34m=\u001b[0m \u001b[0mconvert_exception\u001b[0m\u001b[0;34m(\u001b[0m\u001b[0me\u001b[0m\u001b[0;34m.\u001b[0m\u001b[0mjava_exception\u001b[0m\u001b[0;34m)\u001b[0m\u001b[0;34m\u001b[0m\u001b[0;34m\u001b[0m\u001b[0m\n",
            "\u001b[0;32m/content/spark-3.0.0-bin-hadoop2.7/python/lib/py4j-0.10.9-src.zip/py4j/protocol.py\u001b[0m in \u001b[0;36mget_return_value\u001b[0;34m(answer, gateway_client, target_id, name)\u001b[0m\n\u001b[1;32m    330\u001b[0m                 raise Py4JError(\n\u001b[1;32m    331\u001b[0m                     \u001b[0;34m\"An error occurred while calling {0}{1}{2}. Trace:\\n{3}\\n\"\u001b[0m\u001b[0;34m.\u001b[0m\u001b[0;34m\u001b[0m\u001b[0;34m\u001b[0m\u001b[0m\n\u001b[0;32m--> 332\u001b[0;31m                     format(target_id, \".\", name, value))\n\u001b[0m\u001b[1;32m    333\u001b[0m         \u001b[0;32melse\u001b[0m\u001b[0;34m:\u001b[0m\u001b[0;34m\u001b[0m\u001b[0;34m\u001b[0m\u001b[0m\n\u001b[1;32m    334\u001b[0m             raise Py4JError(\n",
            "\u001b[0;31mPy4JError\u001b[0m: An error occurred while calling o1443.and. Trace:\npy4j.Py4JException: Method and([class java.lang.Integer]) does not exist\n\tat py4j.reflection.ReflectionEngine.getMethod(ReflectionEngine.java:318)\n\tat py4j.reflection.ReflectionEngine.getMethod(ReflectionEngine.java:326)\n\tat py4j.Gateway.invoke(Gateway.java:274)\n\tat py4j.commands.AbstractCommand.invokeMethod(AbstractCommand.java:132)\n\tat py4j.commands.CallCommand.execute(CallCommand.java:79)\n\tat py4j.GatewayConnection.run(GatewayConnection.java:238)\n\tat java.lang.Thread.run(Thread.java:748)\n\n"
          ]
        }
      ]
    },
    {
      "cell_type": "code",
      "metadata": {
        "id": "nGdNtvHIP8kM",
        "colab_type": "code",
        "colab": {}
      },
      "source": [
        ""
      ],
      "execution_count": null,
      "outputs": []
    }
  ]
}