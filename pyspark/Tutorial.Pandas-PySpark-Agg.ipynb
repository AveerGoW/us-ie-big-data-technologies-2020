{
 "cells": [
  {
   "cell_type": "markdown",
   "metadata": {},
   "source": [
    "# Exploring Spark with Pandas\n"
   ]
  },
  {
   "cell_type": "markdown",
   "metadata": {},
   "source": [
    "Using pandas examples, convert the analysis to pyspark. This is useful if you discover your data grows too large for your tooling.\n",
    "\n",
    "The purpose of this notebook is to familiarise yourself you the pyspark API. You are welcome to use the R version of this if you wish. As long as you are able to obtain the correct results. We will be using python in this notebook as it is quite widely used through data science and the community is very large.\n",
    "\n"
   ]
  },
  {
   "cell_type": "markdown",
   "metadata": {},
   "source": [
    "#### Firstly, let's get our spark session"
   ]
  },
  {
   "cell_type": "code",
   "execution_count": 78,
   "metadata": {},
   "outputs": [],
   "source": [
    "from pyspark.sql import SparkSession\n",
    "spark = SparkSession.builder.appName('panda-and-spark').getOrCreate()"
   ]
  },
  {
   "cell_type": "markdown",
   "metadata": {},
   "source": [
    "### Overview\n",
    "\n",
    "\n",
    "* Joining two dataframes/data sets\n",
    "* Simple aggregations\n",
    "* Persisting"
   ]
  },
  {
   "cell_type": "markdown",
   "metadata": {},
   "source": [
    "#### JOIN: Pandas\n",
    "\n",
    "We won't use this more in this notebook, but observe how the joins work.\n",
    "\n",
    "We what happens if you change from the default inner join to outer joins."
   ]
  },
  {
   "cell_type": "code",
   "execution_count": 79,
   "metadata": {},
   "outputs": [],
   "source": [
    "customer_raw = [(1, 'bob', 3462543658686),\n",
    "           (2, 'rob', 9087567565439),\n",
    "           (3, 'tim', 5436586999467),\n",
    "           (4, 'tom', 8349756853250)]\n",
    "\n",
    "customer_cols = ['id', 'name', 'credit_card_number']\n",
    "\n",
    "\n",
    "\n",
    "orders_raw = [(1, 'ketchup', 'bob', 1.20),\n",
    "           (2, 'rutabaga', 'bob', 3.35),\n",
    "           (3, 'fake vegan meat', 'rob', 13.99),\n",
    "           (4, 'cheesey poofs', 'tim', 3.99),\n",
    "           (5, 'ice cream', 'tim', 4.95),\n",
    "           (6, 'protein powder', 'tom', 49.95)]\n",
    "\n",
    "orders_cols = ['id', 'product_name', 'customer', 'price']"
   ]
  },
  {
   "cell_type": "code",
   "execution_count": 80,
   "metadata": {},
   "outputs": [
    {
     "data": {
      "text/html": [
       "<div>\n",
       "<style scoped>\n",
       "    .dataframe tbody tr th:only-of-type {\n",
       "        vertical-align: middle;\n",
       "    }\n",
       "\n",
       "    .dataframe tbody tr th {\n",
       "        vertical-align: top;\n",
       "    }\n",
       "\n",
       "    .dataframe thead th {\n",
       "        text-align: right;\n",
       "    }\n",
       "</style>\n",
       "<table border=\"1\" class=\"dataframe\">\n",
       "  <thead>\n",
       "    <tr style=\"text-align: right;\">\n",
       "      <th></th>\n",
       "      <th>id_x</th>\n",
       "      <th>name</th>\n",
       "      <th>credit_card_number</th>\n",
       "      <th>id_y</th>\n",
       "      <th>product_name</th>\n",
       "      <th>customer</th>\n",
       "      <th>price</th>\n",
       "    </tr>\n",
       "  </thead>\n",
       "  <tbody>\n",
       "    <tr>\n",
       "      <th>0</th>\n",
       "      <td>1</td>\n",
       "      <td>bob</td>\n",
       "      <td>3462543658686</td>\n",
       "      <td>1</td>\n",
       "      <td>ketchup</td>\n",
       "      <td>bob</td>\n",
       "      <td>1.20</td>\n",
       "    </tr>\n",
       "    <tr>\n",
       "      <th>1</th>\n",
       "      <td>1</td>\n",
       "      <td>bob</td>\n",
       "      <td>3462543658686</td>\n",
       "      <td>2</td>\n",
       "      <td>rutabaga</td>\n",
       "      <td>bob</td>\n",
       "      <td>3.35</td>\n",
       "    </tr>\n",
       "    <tr>\n",
       "      <th>2</th>\n",
       "      <td>2</td>\n",
       "      <td>rob</td>\n",
       "      <td>9087567565439</td>\n",
       "      <td>3</td>\n",
       "      <td>fake vegan meat</td>\n",
       "      <td>rob</td>\n",
       "      <td>13.99</td>\n",
       "    </tr>\n",
       "    <tr>\n",
       "      <th>3</th>\n",
       "      <td>3</td>\n",
       "      <td>tim</td>\n",
       "      <td>5436586999467</td>\n",
       "      <td>4</td>\n",
       "      <td>cheesey poofs</td>\n",
       "      <td>tim</td>\n",
       "      <td>3.99</td>\n",
       "    </tr>\n",
       "    <tr>\n",
       "      <th>4</th>\n",
       "      <td>3</td>\n",
       "      <td>tim</td>\n",
       "      <td>5436586999467</td>\n",
       "      <td>5</td>\n",
       "      <td>ice cream</td>\n",
       "      <td>tim</td>\n",
       "      <td>4.95</td>\n",
       "    </tr>\n",
       "    <tr>\n",
       "      <th>5</th>\n",
       "      <td>4</td>\n",
       "      <td>tom</td>\n",
       "      <td>8349756853250</td>\n",
       "      <td>6</td>\n",
       "      <td>protein powder</td>\n",
       "      <td>tom</td>\n",
       "      <td>49.95</td>\n",
       "    </tr>\n",
       "  </tbody>\n",
       "</table>\n",
       "</div>"
      ],
      "text/plain": [
       "   id_x name  credit_card_number  id_y     product_name customer  price\n",
       "0     1  bob       3462543658686     1          ketchup      bob   1.20\n",
       "1     1  bob       3462543658686     2         rutabaga      bob   3.35\n",
       "2     2  rob       9087567565439     3  fake vegan meat      rob  13.99\n",
       "3     3  tim       5436586999467     4    cheesey poofs      tim   3.99\n",
       "4     3  tim       5436586999467     5        ice cream      tim   4.95\n",
       "5     4  tom       8349756853250     6   protein powder      tom  49.95"
      ]
     },
     "execution_count": 80,
     "metadata": {},
     "output_type": "execute_result"
    }
   ],
   "source": [
    "customer_df = pd.DataFrame(valuesA, columns=valuesA_cols)\n",
    "orders_df = pd.DataFrame(valuesB, columns=valuesB_cols)\n",
    "\n",
    "customer_df\n",
    "\n",
    "joined_df = pd.merge(customer_df, orders_df, how='inner', left_on='name', right_on='customer')\n",
    "joined_df\n",
    "\n",
    "## For self study. What happens if (4, 'tom', 8349756853250) in valuesA becomes (4, 'tod', 8349756853250)\n",
    "## How do the results change?\n",
    "## More sensibly; what if customers have not made any orders but we still require them in the result set? "
   ]
  },
  {
   "cell_type": "markdown",
   "metadata": {},
   "source": [
    "#### JOIN: Spark"
   ]
  },
  {
   "cell_type": "code",
   "execution_count": 83,
   "metadata": {},
   "outputs": [
    {
     "name": "stdout",
     "output_type": "stream",
     "text": [
      "+---+----+------------------+\n",
      "| id|name|credit_card_number|\n",
      "+---+----+------------------+\n",
      "|  1| bob|     3462543658686|\n",
      "|  2| rob|     9087567565439|\n",
      "|  3| tim|     5436586999467|\n",
      "|  4| tom|     8349756853250|\n",
      "+---+----+------------------+\n",
      "\n",
      "+---+---------------+--------+-----+\n",
      "| id|   product_name|customer|price|\n",
      "+---+---------------+--------+-----+\n",
      "|  1|        ketchup|     bob|  1.2|\n",
      "|  2|       rutabaga|     bob| 3.35|\n",
      "|  3|fake vegan meat|     rob|13.99|\n",
      "|  4|  cheesey poofs|     tim| 3.99|\n",
      "|  5|      ice cream|     tim| 4.95|\n",
      "|  6| protein powder|     tom|49.95|\n",
      "+---+---------------+--------+-----+\n",
      "\n"
     ]
    }
   ],
   "source": [
    "customersDF = spark.createDataFrame(customer_raw, customer_cols)\n",
    "\n",
    "ordersDF = spark.createDataFrame(orders_raw, orders_cols)\n",
    "\n",
    "# Show tables\n",
    "customersDF.show()\n",
    "ordersDF.show()"
   ]
  },
  {
   "cell_type": "code",
   "execution_count": 84,
   "metadata": {},
   "outputs": [
    {
     "name": "stdout",
     "output_type": "stream",
     "text": [
      "+---+----+------------------+---+---------------+--------+-----+\n",
      "| id|name|credit_card_number| id|   product_name|customer|price|\n",
      "+---+----+------------------+---+---------------+--------+-----+\n",
      "|  2| rob|     9087567565439|  3|fake vegan meat|     rob|13.99|\n",
      "|  3| tim|     5436586999467|  4|  cheesey poofs|     tim| 3.99|\n",
      "|  3| tim|     5436586999467|  5|      ice cream|     tim| 4.95|\n",
      "|  4| tom|     8349756853250|  6| protein powder|     tom|49.95|\n",
      "|  1| bob|     3462543658686|  1|        ketchup|     bob|  1.2|\n",
      "|  1| bob|     3462543658686|  2|       rutabaga|     bob| 3.35|\n",
      "+---+----+------------------+---+---------------+--------+-----+\n",
      "\n"
     ]
    }
   ],
   "source": [
    "joinedDF = customersDF.join(ordersDF, customersDF.name == ordersDF.customer)\n",
    "joinedDF.show()"
   ]
  },
  {
   "cell_type": "markdown",
   "metadata": {},
   "source": [
    "## Simple Aggregations\n",
    "\n",
    "Now let's explore simple aggregations. You will be using these often when doing exploratory work in big data. Remember, the intention here is that you grow familiar with the way the API works, and how to translate inquiries into that API."
   ]
  },
  {
   "cell_type": "markdown",
   "metadata": {},
   "source": [
    "> _How much did each person spend?_"
   ]
  },
  {
   "cell_type": "code",
   "execution_count": 85,
   "metadata": {},
   "outputs": [
    {
     "data": {
      "text/html": [
       "<div>\n",
       "<style scoped>\n",
       "    .dataframe tbody tr th:only-of-type {\n",
       "        vertical-align: middle;\n",
       "    }\n",
       "\n",
       "    .dataframe tbody tr th {\n",
       "        vertical-align: top;\n",
       "    }\n",
       "\n",
       "    .dataframe thead tr th {\n",
       "        text-align: left;\n",
       "    }\n",
       "\n",
       "    .dataframe thead tr:last-of-type th {\n",
       "        text-align: right;\n",
       "    }\n",
       "</style>\n",
       "<table border=\"1\" class=\"dataframe\">\n",
       "  <thead>\n",
       "    <tr>\n",
       "      <th></th>\n",
       "      <th>price</th>\n",
       "    </tr>\n",
       "    <tr>\n",
       "      <th></th>\n",
       "      <th>sum</th>\n",
       "    </tr>\n",
       "    <tr>\n",
       "      <th>name</th>\n",
       "      <th></th>\n",
       "    </tr>\n",
       "  </thead>\n",
       "  <tbody>\n",
       "    <tr>\n",
       "      <th>bob</th>\n",
       "      <td>4.55</td>\n",
       "    </tr>\n",
       "    <tr>\n",
       "      <th>rob</th>\n",
       "      <td>13.99</td>\n",
       "    </tr>\n",
       "    <tr>\n",
       "      <th>tim</th>\n",
       "      <td>8.94</td>\n",
       "    </tr>\n",
       "    <tr>\n",
       "      <th>tom</th>\n",
       "      <td>49.95</td>\n",
       "    </tr>\n",
       "  </tbody>\n",
       "</table>\n",
       "</div>"
      ],
      "text/plain": [
       "      price\n",
       "        sum\n",
       "name       \n",
       "bob    4.55\n",
       "rob   13.99\n",
       "tim    8.94\n",
       "tom   49.95"
      ]
     },
     "execution_count": 85,
     "metadata": {},
     "output_type": "execute_result"
    }
   ],
   "source": [
    "joined_df.groupby('name').agg({\"price\": [\"sum\"]}) "
   ]
  },
  {
   "cell_type": "code",
   "execution_count": 86,
   "metadata": {},
   "outputs": [
    {
     "name": "stdout",
     "output_type": "stream",
     "text": [
      "+----+-----------------+\n",
      "|name|            total|\n",
      "+----+-----------------+\n",
      "| rob|            13.99|\n",
      "| tim|8.940000000000001|\n",
      "| tom|            49.95|\n",
      "| bob|             4.55|\n",
      "+----+-----------------+\n",
      "\n"
     ]
    }
   ],
   "source": [
    "import pyspark.sql.functions as f\n",
    "\n",
    "joinedDF.groupby('name').agg(f.sum('price').alias('total')).show()"
   ]
  },
  {
   "cell_type": "markdown",
   "metadata": {},
   "source": [
    "Let's use bigger data\n",
    "  * NYC crash data"
   ]
  },
  {
   "cell_type": "code",
   "execution_count": null,
   "metadata": {},
   "outputs": [],
   "source": [
    "# save to the filesystem to prevent another load\n",
    "! wget curl -oP https://data.cityofnewyork.us/api/views/h9gi-nx95/rows.csv"
   ]
  },
  {
   "cell_type": "code",
   "execution_count": 39,
   "metadata": {},
   "outputs": [
    {
     "name": "stderr",
     "output_type": "stream",
     "text": [
      "/home/ubuntu/.local/lib/python3.6/site-packages/IPython/core/interactiveshell.py:3051: DtypeWarning: Columns (3) have mixed types.Specify dtype option on import or set low_memory=False.\n",
      "  interactivity=interactivity, compiler=compiler, result=result)\n"
     ]
    }
   ],
   "source": [
    "import pandas as pd\n",
    "nyc_df = pd.read_csv('out.csv')"
   ]
  },
  {
   "cell_type": "code",
   "execution_count": 88,
   "metadata": {},
   "outputs": [
    {
     "name": "stdout",
     "output_type": "stream",
     "text": [
      "1706756\n"
     ]
    }
   ],
   "source": [
    "# number or rows\n",
    "\n",
    "print(len(nyc_df))\n",
    "\n",
    "# this is quite large so we will work with a sample while we experiment in pandas as least."
   ]
  },
  {
   "cell_type": "markdown",
   "metadata": {},
   "source": [
    "We'll take a random sample at 20% of the original data"
   ]
  },
  {
   "cell_type": "code",
   "execution_count": 89,
   "metadata": {},
   "outputs": [],
   "source": [
    "nyc_small = nyc_df.sample(frac=0.2, replace=False, random_state=1)"
   ]
  },
  {
   "cell_type": "code",
   "execution_count": 104,
   "metadata": {},
   "outputs": [],
   "source": [
    "# we are also going to limit the columns to those we are going to work with\n",
    "\n",
    "nyc_small = nyc_small[['CRASH DATE', 'CONTRIBUTING FACTOR VEHICLE 1', \n",
    "                       'BOROUGH', 'VEHICLE TYPE CODE 1', \n",
    "                       'NUMBER OF PERSONS INJURED']]"
   ]
  },
  {
   "cell_type": "code",
   "execution_count": 105,
   "metadata": {},
   "outputs": [
    {
     "data": {
      "text/html": [
       "<div>\n",
       "<style scoped>\n",
       "    .dataframe tbody tr th:only-of-type {\n",
       "        vertical-align: middle;\n",
       "    }\n",
       "\n",
       "    .dataframe tbody tr th {\n",
       "        vertical-align: top;\n",
       "    }\n",
       "\n",
       "    .dataframe thead th {\n",
       "        text-align: right;\n",
       "    }\n",
       "</style>\n",
       "<table border=\"1\" class=\"dataframe\">\n",
       "  <thead>\n",
       "    <tr style=\"text-align: right;\">\n",
       "      <th></th>\n",
       "      <th>CRASH DATE</th>\n",
       "      <th>CONTRIBUTING FACTOR VEHICLE 1</th>\n",
       "      <th>BOROUGH</th>\n",
       "      <th>VEHICLE TYPE CODE 1</th>\n",
       "      <th>NUMBER OF PERSONS INJURED</th>\n",
       "    </tr>\n",
       "  </thead>\n",
       "  <tbody>\n",
       "    <tr>\n",
       "      <th>0</th>\n",
       "      <td>04/10/2019</td>\n",
       "      <td>Unspecified</td>\n",
       "      <td>QUEENS</td>\n",
       "      <td>Station Wagon/Sport Utility Vehicle</td>\n",
       "      <td>1.0</td>\n",
       "    </tr>\n",
       "    <tr>\n",
       "      <th>1</th>\n",
       "      <td>05/01/2019</td>\n",
       "      <td>Driver Inattention/Distraction</td>\n",
       "      <td>BROOKLYN</td>\n",
       "      <td>Sedan</td>\n",
       "      <td>0.0</td>\n",
       "    </tr>\n",
       "  </tbody>\n",
       "</table>\n",
       "</div>"
      ],
      "text/plain": [
       "   CRASH DATE   CONTRIBUTING FACTOR VEHICLE 1   BOROUGH  \\\n",
       "0  04/10/2019                     Unspecified    QUEENS   \n",
       "1  05/01/2019  Driver Inattention/Distraction  BROOKLYN   \n",
       "\n",
       "                   VEHICLE TYPE CODE 1  NUMBER OF PERSONS INJURED  \n",
       "0  Station Wagon/Sport Utility Vehicle                        1.0  \n",
       "1                                Sedan                        0.0  "
      ]
     },
     "execution_count": 105,
     "metadata": {},
     "output_type": "execute_result"
    }
   ],
   "source": [
    "nyc_small.head(2)"
   ]
  },
  {
   "cell_type": "markdown",
   "metadata": {},
   "source": [
    "Now, let's create the pyspark dataframe. Now we two frames with the same content\n",
    "  * nyc_small: pandas\n",
    "  * sdf_small: pyspark"
   ]
  },
  {
   "cell_type": "code",
   "execution_count": 124,
   "metadata": {},
   "outputs": [
    {
     "name": "stdout",
     "output_type": "stream",
     "text": [
      "StructType(List(StructField(CRASH DATE,StringType,true),StructField(CONTRIBUTING FACTOR VEHICLE 1,StringType,true),StructField(BOROUGH,StringType,true),StructField(VEHICLE TYPE CODE 1,StringType,true),StructField(NUMBER OF PERSONS INJURED,StringType,true)))\n"
     ]
    }
   ],
   "source": [
    "from pyspark.sql import SQLContext\n",
    "\n",
    "\n",
    "# there are nan's in the frame with strings, and spark can't 'infer the schema', so we have to help it out \n",
    "# by replacing them with empty strings and forcing the column to be a string\n",
    "\n",
    "sdf_small = SQLContext(spark).createDataFrame(nyc_small.fillna('').astype('str'))\n",
    "\n",
    "\n",
    "# Lets check the schema quickly\n",
    "\n",
    "print(sdf.schema)"
   ]
  },
  {
   "cell_type": "markdown",
   "metadata": {},
   "source": [
    "# Questions\n",
    "\n",
    "Answer the following questions by porting the pandas code to the Spark API\n"
   ]
  },
  {
   "cell_type": "markdown",
   "metadata": {},
   "source": [
    "\n",
    "# Question 1\n",
    "\n",
    "\n",
    "> On what day do most crashes occcur?"
   ]
  },
  {
   "cell_type": "code",
   "execution_count": 125,
   "metadata": {},
   "outputs": [
    {
     "data": {
      "text/plain": [
       "CRASH DATE\n",
       "05/02/2019    49\n",
       "04/12/2019    45\n",
       "04/16/2019    43\n",
       "04/23/2019    43\n",
       "04/15/2019    43\n",
       "Name: CRASH DATE, dtype: int64"
      ]
     },
     "execution_count": 125,
     "metadata": {},
     "output_type": "execute_result"
    }
   ],
   "source": [
    "# Pandas\n",
    "nyc_small.groupby('CRASH DATE')['CRASH DATE'].count().sort_values(ascending=False).head(5)"
   ]
  },
  {
   "cell_type": "code",
   "execution_count": 130,
   "metadata": {},
   "outputs": [
    {
     "name": "stdout",
     "output_type": "stream",
     "text": [
      "+----------+-----+\n",
      "|CRASH DATE|count|\n",
      "+----------+-----+\n",
      "|05/02/2019|   49|\n",
      "|04/12/2019|   45|\n",
      "|04/23/2019|   43|\n",
      "|04/16/2019|   43|\n",
      "|04/15/2019|   43|\n",
      "+----------+-----+\n",
      "only showing top 5 rows\n",
      "\n"
     ]
    }
   ],
   "source": [
    "### Spark?\n",
    "\n"
   ]
  },
  {
   "cell_type": "markdown",
   "metadata": {},
   "source": [
    "# Question 2\n",
    "\n",
    "> _Where do most crashes occur?_"
   ]
  },
  {
   "cell_type": "code",
   "execution_count": 55,
   "metadata": {},
   "outputs": [
    {
     "data": {
      "text/plain": [
       "BOROUGH\n",
       "BROOKLYN         219\n",
       "QUEENS           180\n",
       "MANHATTAN        149\n",
       "BRONX             88\n",
       "STATEN ISLAND     17\n",
       "Name: BOROUGH, dtype: int64"
      ]
     },
     "execution_count": 55,
     "metadata": {},
     "output_type": "execute_result"
    }
   ],
   "source": [
    "nyc_small.groupby('BOROUGH')['BOROUGH'].count().sort_values(ascending=False).head(5)"
   ]
  },
  {
   "cell_type": "code",
   "execution_count": null,
   "metadata": {},
   "outputs": [],
   "source": [
    "## Spark?\n",
    "\n"
   ]
  },
  {
   "cell_type": "markdown",
   "metadata": {},
   "source": [
    " # Question 3\n",
    " \n",
    " > What is the most common cause of accident in 'QUEENS'"
   ]
  },
  {
   "cell_type": "code",
   "execution_count": 61,
   "metadata": {},
   "outputs": [
    {
     "data": {
      "text/plain": [
       "CONTRIBUTING FACTOR VEHICLE 1\n",
       "Driver Inattention/Distraction    55\n",
       "Unspecified                       40\n",
       "Failure to Yield Right-of-Way     23\n",
       "Passing or Lane Usage Improper    10\n",
       "Passing Too Closely               10\n",
       "Name: CONTRIBUTING FACTOR VEHICLE 1, dtype: int64"
      ]
     },
     "execution_count": 61,
     "metadata": {},
     "output_type": "execute_result"
    }
   ],
   "source": [
    "nyc_small[(nyc_small.BOROUGH == 'QUEENS')]['CONTRIBUTING FACTOR VEHICLE 1'].value_counts()\n",
    "\n",
    "# you can also use a group by (to avoid the pandas value_counts function)\n",
    "\n",
    "nyc_small[(nyc_small.BOROUGH == 'QUEENS')].groupby(\n",
    "    'CONTRIBUTING FACTOR VEHICLE 1'\n",
    ")['CONTRIBUTING FACTOR VEHICLE 1'].count().sort_values(ascending=False).head(5)"
   ]
  },
  {
   "cell_type": "code",
   "execution_count": null,
   "metadata": {},
   "outputs": [],
   "source": [
    "## Spark?\n",
    "\n",
    "\n",
    "\n"
   ]
  },
  {
   "cell_type": "markdown",
   "metadata": {},
   "source": [
    "# Question 4"
   ]
  },
  {
   "cell_type": "markdown",
   "metadata": {},
   "source": [
    "> _What is the average number or injuries for specific cars driving in specific suburbs_\n"
   ]
  },
  {
   "cell_type": "code",
   "execution_count": 68,
   "metadata": {},
   "outputs": [
    {
     "data": {
      "text/plain": [
       "VEHICLE TYPE CODE 1  BOROUGH \n",
       "Taxi                 QUEENS      1.6\n",
       "Bike                 BRONX       1.0\n",
       "                     BROOKLYN    1.0\n",
       "Name: NUMBER OF PERSONS INJURED, dtype: float64"
      ]
     },
     "execution_count": 68,
     "metadata": {},
     "output_type": "execute_result"
    }
   ],
   "source": [
    "nyc_small.groupby(['VEHICLE TYPE CODE 1', 'BOROUGH'])['NUMBER OF PERSONS INJURED'].mean().sort_values(ascending=False).head(3)"
   ]
  },
  {
   "cell_type": "code",
   "execution_count": 1,
   "metadata": {},
   "outputs": [],
   "source": [
    "## Spark?"
   ]
  },
  {
   "cell_type": "code",
   "execution_count": null,
   "metadata": {},
   "outputs": [],
   "source": []
  }
 ],
 "metadata": {
  "kernelspec": {
   "display_name": "Python 3",
   "language": "python",
   "name": "python3"
  },
  "language_info": {
   "codemirror_mode": {
    "name": "ipython",
    "version": 3
   },
   "file_extension": ".py",
   "mimetype": "text/x-python",
   "name": "python",
   "nbconvert_exporter": "python",
   "pygments_lexer": "ipython3",
   "version": "3.6.9"
  }
 },
 "nbformat": 4,
 "nbformat_minor": 4
}
